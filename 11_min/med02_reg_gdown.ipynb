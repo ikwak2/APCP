{
  "cells": [
    {
      "cell_type": "markdown",
      "metadata": {
        "id": "view-in-github",
        "colab_type": "text"
      },
      "source": [
        "<a href=\"https://colab.research.google.com/github/ikwak2/APCP/blob/master/11_min/med02_reg_gdown.ipynb\" target=\"_parent\"><img src=\"https://colab.research.google.com/assets/colab-badge.svg\" alt=\"Open In Colab\"/></a>"
      ]
    },
    {
      "cell_type": "code",
      "source": [
        "!gdown --id 1b4w59jB0XWVKfcV_vo9VrQtCB9Kgzp1y"
      ],
      "metadata": {
        "colab": {
          "base_uri": "https://localhost:8080/"
        },
        "id": "YxHd7ATvg5pb",
        "outputId": "fd8bb871-b5f2-4d72-baf3-6d4646754690"
      },
      "id": "YxHd7ATvg5pb",
      "execution_count": 1,
      "outputs": [
        {
          "output_type": "stream",
          "name": "stdout",
          "text": [
            "/usr/local/lib/python3.8/dist-packages/gdown/cli.py:127: FutureWarning: Option `--id` was deprecated in version 4.3.1 and will be removed in 5.0. You don't need to pass it anymore to use a file ID.\n",
            "  warnings.warn(\n",
            "Downloading...\n",
            "From: https://drive.google.com/uc?id=1b4w59jB0XWVKfcV_vo9VrQtCB9Kgzp1y\n",
            "To: /content/raw_pea.csv\n",
            "100% 24.1k/24.1k [00:00<00:00, 23.9MB/s]\n"
          ]
        }
      ]
    },
    {
      "cell_type": "code",
      "execution_count": 2,
      "id": "74ab2c56",
      "metadata": {
        "colab": {
          "base_uri": "https://localhost:8080/"
        },
        "id": "74ab2c56",
        "outputId": "b2edc328-b2c5-43dc-886a-c65a464814db"
      },
      "outputs": [
        {
          "output_type": "stream",
          "name": "stdout",
          "text": [
            "Looking in indexes: https://pypi.org/simple, https://us-python.pkg.dev/colab-wheels/public/simple/\n",
            "Collecting git+https://github.com/statsmodels/statsmodels.git\n",
            "  Cloning https://github.com/statsmodels/statsmodels.git to /tmp/pip-req-build-my8sentv\n",
            "  Running command git clone --filter=blob:none --quiet https://github.com/statsmodels/statsmodels.git /tmp/pip-req-build-my8sentv\n",
            "  Resolved https://github.com/statsmodels/statsmodels.git to commit 50588fc0f9eb0cea29975d7cbfc929add12c8ef0\n",
            "  Installing build dependencies ... \u001b[?25l\u001b[?25hdone\n",
            "  Getting requirements to build wheel ... \u001b[?25l\u001b[?25hdone\n",
            "  Installing backend dependencies ... \u001b[?25l\u001b[?25hdone\n",
            "  Preparing metadata (pyproject.toml) ... \u001b[?25l\u001b[?25hdone\n",
            "Requirement already satisfied: patsy>=0.5.2 in /usr/local/lib/python3.8/dist-packages (from statsmodels==0.14.0.dev701+g50588fc0f) (0.5.3)\n",
            "Requirement already satisfied: pandas>=1.0 in /usr/local/lib/python3.8/dist-packages (from statsmodels==0.14.0.dev701+g50588fc0f) (1.3.5)\n",
            "Requirement already satisfied: numpy>=1.18 in /usr/local/lib/python3.8/dist-packages (from statsmodels==0.14.0.dev701+g50588fc0f) (1.21.6)\n",
            "Requirement already satisfied: scipy!=1.9.2,>=1.4 in /usr/local/lib/python3.8/dist-packages (from statsmodels==0.14.0.dev701+g50588fc0f) (1.7.3)\n",
            "Requirement already satisfied: packaging>=21.3 in /usr/local/lib/python3.8/dist-packages (from statsmodels==0.14.0.dev701+g50588fc0f) (21.3)\n",
            "Requirement already satisfied: pyparsing!=3.0.5,>=2.0.2 in /usr/local/lib/python3.8/dist-packages (from packaging>=21.3->statsmodels==0.14.0.dev701+g50588fc0f) (3.0.9)\n",
            "Requirement already satisfied: pytz>=2017.3 in /usr/local/lib/python3.8/dist-packages (from pandas>=1.0->statsmodels==0.14.0.dev701+g50588fc0f) (2022.7)\n",
            "Requirement already satisfied: python-dateutil>=2.7.3 in /usr/local/lib/python3.8/dist-packages (from pandas>=1.0->statsmodels==0.14.0.dev701+g50588fc0f) (2.8.2)\n",
            "Requirement already satisfied: six in /usr/local/lib/python3.8/dist-packages (from patsy>=0.5.2->statsmodels==0.14.0.dev701+g50588fc0f) (1.15.0)\n",
            "Building wheels for collected packages: statsmodels\n",
            "  Building wheel for statsmodels (pyproject.toml) ... \u001b[?25l\u001b[?25hdone\n",
            "  Created wheel for statsmodels: filename=statsmodels-0.14.0.dev701+g50588fc0f-cp38-cp38-linux_x86_64.whl size=19696772 sha256=345140ada9f38647cd7c428226755dda490db329346efbcd81921c44026c83e2\n",
            "  Stored in directory: /tmp/pip-ephem-wheel-cache-zgv3xtkq/wheels/ff/9d/8b/25017c3788fad916fdf1c1e49baed1b228c539e84909f38b5e\n",
            "Successfully built statsmodels\n",
            "Installing collected packages: statsmodels\n",
            "  Attempting uninstall: statsmodels\n",
            "    Found existing installation: statsmodels 0.12.2\n",
            "    Uninstalling statsmodels-0.12.2:\n",
            "      Successfully uninstalled statsmodels-0.12.2\n",
            "Successfully installed statsmodels-0.14.0.dev701+g50588fc0f\n"
          ]
        }
      ],
      "source": [
        "!pip3 install git+https://github.com/statsmodels/statsmodels.git"
      ]
    },
    {
      "cell_type": "code",
      "execution_count": 3,
      "id": "0df8ee92",
      "metadata": {
        "id": "0df8ee92"
      },
      "outputs": [],
      "source": [
        "## import packages\n",
        "import pandas as pd\n",
        "import numpy as np\n",
        "\n",
        "import seaborn as sns\n",
        "import matplotlib.pyplot as plt\n",
        "from matplotlib import rc\n",
        "rc('font', family='AppleGothic')\n",
        "plt.rcParams['axes.unicode_minus'] = False\n",
        "\n",
        "import scipy.stats as stats\n",
        "from scipy.stats import pearsonr, spearmanr\n",
        "\n",
        "from statsmodels.miscmodels.ordinal_model import OrderedModel\n",
        "#from statsmodels.discrete.discrete_model import OrderedModel\n",
        "from pandas.api.types import CategoricalDtype\n",
        "\n",
        "from sklearn.model_selection import train_test_split\n",
        "from sklearn.linear_model import LogisticRegression\n",
        "\n",
        "from sklearn.metrics import confusion_matrix\n",
        "from sklearn.metrics import multilabel_confusion_matrix\n",
        "from sklearn.metrics import classification_report\n",
        "from sklearn.metrics import roc_curve\n",
        "from sklearn.metrics import roc_auc_score\n",
        "from sklearn.metrics import RocCurveDisplay\n",
        "\n",
        "import warnings\n",
        "warnings.filterwarnings('ignore')"
      ]
    },
    {
      "cell_type": "markdown",
      "id": "39ce486f",
      "metadata": {
        "id": "39ce486f"
      },
      "source": [
        "**| Data Preprocessing**"
      ]
    },
    {
      "cell_type": "code",
      "execution_count": 4,
      "id": "908026d0",
      "metadata": {
        "colab": {
          "base_uri": "https://localhost:8080/",
          "height": 366
        },
        "id": "908026d0",
        "outputId": "008d3793-eaae-43c5-dd37-eb2a91946136"
      },
      "outputs": [
        {
          "output_type": "execute_result",
          "data": {
            "text/plain": [
              "        환자번호   이름    나이   성별 동반 질환 Unnamed: 5 Unnamed: 6 흡연력 Unnamed: 8  \\\n",
              "0        NaN  NaN   NaN  NaN    당뇨        고혈압         비고  유무         기간   \n",
              "1   667976.0  전현구  28.0    M     0          0        NaN   1        4.5   \n",
              "2  1153168.0  오세웅  21.0    M     0          0        NaN   0        NaN   \n",
              "3     1147.0  임기현  73.0    F     0          0        NaN   0        NaN   \n",
              "4  1566457.0  조대희  40.0    M     0          0        NaN   1         20   \n",
              "\n",
              "   코수술 \\n과거력  ... Unnamed: 81 Unnamed: 82  Unnamed: 83  Unnamed: 84  \\\n",
              "0        NaN  ...           C           D          D-1            E   \n",
              "1        1.0  ...         NaN         NaN          NaN          NaN   \n",
              "2        0.0  ...         NaN         NaN          NaN          NaN   \n",
              "3        0.0  ...           -           -          NaN            -   \n",
              "4        0.0  ...         NaN         NaN          NaN          NaN   \n",
              "\n",
              "   Unnamed: 85  Unnamed: 86 Unnamed: 87 Unnamed: 88 Unnamed: 89 검사일시  \n",
              "0            F          F-1           G           H         NaN  NaN  \n",
              "1          NaN          NaN         NaN         NaN         NaN  NaN  \n",
              "2          NaN          NaN         NaN         NaN         NaN  NaN  \n",
              "3            -          NaN           -           -         NaN  NaN  \n",
              "4          NaN          NaN         NaN         NaN         NaN  NaN  \n",
              "\n",
              "[5 rows x 91 columns]"
            ],
            "text/html": [
              "\n",
              "  <div id=\"df-5fcfd8c1-8742-40d2-a583-284b72ed6b08\">\n",
              "    <div class=\"colab-df-container\">\n",
              "      <div>\n",
              "<style scoped>\n",
              "    .dataframe tbody tr th:only-of-type {\n",
              "        vertical-align: middle;\n",
              "    }\n",
              "\n",
              "    .dataframe tbody tr th {\n",
              "        vertical-align: top;\n",
              "    }\n",
              "\n",
              "    .dataframe thead th {\n",
              "        text-align: right;\n",
              "    }\n",
              "</style>\n",
              "<table border=\"1\" class=\"dataframe\">\n",
              "  <thead>\n",
              "    <tr style=\"text-align: right;\">\n",
              "      <th></th>\n",
              "      <th>환자번호</th>\n",
              "      <th>이름</th>\n",
              "      <th>나이</th>\n",
              "      <th>성별</th>\n",
              "      <th>동반 질환</th>\n",
              "      <th>Unnamed: 5</th>\n",
              "      <th>Unnamed: 6</th>\n",
              "      <th>흡연력</th>\n",
              "      <th>Unnamed: 8</th>\n",
              "      <th>코수술 \\n과거력</th>\n",
              "      <th>...</th>\n",
              "      <th>Unnamed: 81</th>\n",
              "      <th>Unnamed: 82</th>\n",
              "      <th>Unnamed: 83</th>\n",
              "      <th>Unnamed: 84</th>\n",
              "      <th>Unnamed: 85</th>\n",
              "      <th>Unnamed: 86</th>\n",
              "      <th>Unnamed: 87</th>\n",
              "      <th>Unnamed: 88</th>\n",
              "      <th>Unnamed: 89</th>\n",
              "      <th>검사일시</th>\n",
              "    </tr>\n",
              "  </thead>\n",
              "  <tbody>\n",
              "    <tr>\n",
              "      <th>0</th>\n",
              "      <td>NaN</td>\n",
              "      <td>NaN</td>\n",
              "      <td>NaN</td>\n",
              "      <td>NaN</td>\n",
              "      <td>당뇨</td>\n",
              "      <td>고혈압</td>\n",
              "      <td>비고</td>\n",
              "      <td>유무</td>\n",
              "      <td>기간</td>\n",
              "      <td>NaN</td>\n",
              "      <td>...</td>\n",
              "      <td>C</td>\n",
              "      <td>D</td>\n",
              "      <td>D-1</td>\n",
              "      <td>E</td>\n",
              "      <td>F</td>\n",
              "      <td>F-1</td>\n",
              "      <td>G</td>\n",
              "      <td>H</td>\n",
              "      <td>NaN</td>\n",
              "      <td>NaN</td>\n",
              "    </tr>\n",
              "    <tr>\n",
              "      <th>1</th>\n",
              "      <td>667976.0</td>\n",
              "      <td>전현구</td>\n",
              "      <td>28.0</td>\n",
              "      <td>M</td>\n",
              "      <td>0</td>\n",
              "      <td>0</td>\n",
              "      <td>NaN</td>\n",
              "      <td>1</td>\n",
              "      <td>4.5</td>\n",
              "      <td>1.0</td>\n",
              "      <td>...</td>\n",
              "      <td>NaN</td>\n",
              "      <td>NaN</td>\n",
              "      <td>NaN</td>\n",
              "      <td>NaN</td>\n",
              "      <td>NaN</td>\n",
              "      <td>NaN</td>\n",
              "      <td>NaN</td>\n",
              "      <td>NaN</td>\n",
              "      <td>NaN</td>\n",
              "      <td>NaN</td>\n",
              "    </tr>\n",
              "    <tr>\n",
              "      <th>2</th>\n",
              "      <td>1153168.0</td>\n",
              "      <td>오세웅</td>\n",
              "      <td>21.0</td>\n",
              "      <td>M</td>\n",
              "      <td>0</td>\n",
              "      <td>0</td>\n",
              "      <td>NaN</td>\n",
              "      <td>0</td>\n",
              "      <td>NaN</td>\n",
              "      <td>0.0</td>\n",
              "      <td>...</td>\n",
              "      <td>NaN</td>\n",
              "      <td>NaN</td>\n",
              "      <td>NaN</td>\n",
              "      <td>NaN</td>\n",
              "      <td>NaN</td>\n",
              "      <td>NaN</td>\n",
              "      <td>NaN</td>\n",
              "      <td>NaN</td>\n",
              "      <td>NaN</td>\n",
              "      <td>NaN</td>\n",
              "    </tr>\n",
              "    <tr>\n",
              "      <th>3</th>\n",
              "      <td>1147.0</td>\n",
              "      <td>임기현</td>\n",
              "      <td>73.0</td>\n",
              "      <td>F</td>\n",
              "      <td>0</td>\n",
              "      <td>0</td>\n",
              "      <td>NaN</td>\n",
              "      <td>0</td>\n",
              "      <td>NaN</td>\n",
              "      <td>0.0</td>\n",
              "      <td>...</td>\n",
              "      <td>-</td>\n",
              "      <td>-</td>\n",
              "      <td>NaN</td>\n",
              "      <td>-</td>\n",
              "      <td>-</td>\n",
              "      <td>NaN</td>\n",
              "      <td>-</td>\n",
              "      <td>-</td>\n",
              "      <td>NaN</td>\n",
              "      <td>NaN</td>\n",
              "    </tr>\n",
              "    <tr>\n",
              "      <th>4</th>\n",
              "      <td>1566457.0</td>\n",
              "      <td>조대희</td>\n",
              "      <td>40.0</td>\n",
              "      <td>M</td>\n",
              "      <td>0</td>\n",
              "      <td>0</td>\n",
              "      <td>NaN</td>\n",
              "      <td>1</td>\n",
              "      <td>20</td>\n",
              "      <td>0.0</td>\n",
              "      <td>...</td>\n",
              "      <td>NaN</td>\n",
              "      <td>NaN</td>\n",
              "      <td>NaN</td>\n",
              "      <td>NaN</td>\n",
              "      <td>NaN</td>\n",
              "      <td>NaN</td>\n",
              "      <td>NaN</td>\n",
              "      <td>NaN</td>\n",
              "      <td>NaN</td>\n",
              "      <td>NaN</td>\n",
              "    </tr>\n",
              "  </tbody>\n",
              "</table>\n",
              "<p>5 rows × 91 columns</p>\n",
              "</div>\n",
              "      <button class=\"colab-df-convert\" onclick=\"convertToInteractive('df-5fcfd8c1-8742-40d2-a583-284b72ed6b08')\"\n",
              "              title=\"Convert this dataframe to an interactive table.\"\n",
              "              style=\"display:none;\">\n",
              "        \n",
              "  <svg xmlns=\"http://www.w3.org/2000/svg\" height=\"24px\"viewBox=\"0 0 24 24\"\n",
              "       width=\"24px\">\n",
              "    <path d=\"M0 0h24v24H0V0z\" fill=\"none\"/>\n",
              "    <path d=\"M18.56 5.44l.94 2.06.94-2.06 2.06-.94-2.06-.94-.94-2.06-.94 2.06-2.06.94zm-11 1L8.5 8.5l.94-2.06 2.06-.94-2.06-.94L8.5 2.5l-.94 2.06-2.06.94zm10 10l.94 2.06.94-2.06 2.06-.94-2.06-.94-.94-2.06-.94 2.06-2.06.94z\"/><path d=\"M17.41 7.96l-1.37-1.37c-.4-.4-.92-.59-1.43-.59-.52 0-1.04.2-1.43.59L10.3 9.45l-7.72 7.72c-.78.78-.78 2.05 0 2.83L4 21.41c.39.39.9.59 1.41.59.51 0 1.02-.2 1.41-.59l7.78-7.78 2.81-2.81c.8-.78.8-2.07 0-2.86zM5.41 20L4 18.59l7.72-7.72 1.47 1.35L5.41 20z\"/>\n",
              "  </svg>\n",
              "      </button>\n",
              "      \n",
              "  <style>\n",
              "    .colab-df-container {\n",
              "      display:flex;\n",
              "      flex-wrap:wrap;\n",
              "      gap: 12px;\n",
              "    }\n",
              "\n",
              "    .colab-df-convert {\n",
              "      background-color: #E8F0FE;\n",
              "      border: none;\n",
              "      border-radius: 50%;\n",
              "      cursor: pointer;\n",
              "      display: none;\n",
              "      fill: #1967D2;\n",
              "      height: 32px;\n",
              "      padding: 0 0 0 0;\n",
              "      width: 32px;\n",
              "    }\n",
              "\n",
              "    .colab-df-convert:hover {\n",
              "      background-color: #E2EBFA;\n",
              "      box-shadow: 0px 1px 2px rgba(60, 64, 67, 0.3), 0px 1px 3px 1px rgba(60, 64, 67, 0.15);\n",
              "      fill: #174EA6;\n",
              "    }\n",
              "\n",
              "    [theme=dark] .colab-df-convert {\n",
              "      background-color: #3B4455;\n",
              "      fill: #D2E3FC;\n",
              "    }\n",
              "\n",
              "    [theme=dark] .colab-df-convert:hover {\n",
              "      background-color: #434B5C;\n",
              "      box-shadow: 0px 1px 3px 1px rgba(0, 0, 0, 0.15);\n",
              "      filter: drop-shadow(0px 1px 2px rgba(0, 0, 0, 0.3));\n",
              "      fill: #FFFFFF;\n",
              "    }\n",
              "  </style>\n",
              "\n",
              "      <script>\n",
              "        const buttonEl =\n",
              "          document.querySelector('#df-5fcfd8c1-8742-40d2-a583-284b72ed6b08 button.colab-df-convert');\n",
              "        buttonEl.style.display =\n",
              "          google.colab.kernel.accessAllowed ? 'block' : 'none';\n",
              "\n",
              "        async function convertToInteractive(key) {\n",
              "          const element = document.querySelector('#df-5fcfd8c1-8742-40d2-a583-284b72ed6b08');\n",
              "          const dataTable =\n",
              "            await google.colab.kernel.invokeFunction('convertToInteractive',\n",
              "                                                     [key], {});\n",
              "          if (!dataTable) return;\n",
              "\n",
              "          const docLinkHtml = 'Like what you see? Visit the ' +\n",
              "            '<a target=\"_blank\" href=https://colab.research.google.com/notebooks/data_table.ipynb>data table notebook</a>'\n",
              "            + ' to learn more about interactive tables.';\n",
              "          element.innerHTML = '';\n",
              "          dataTable['output_type'] = 'display_data';\n",
              "          await google.colab.output.renderOutput(dataTable, element);\n",
              "          const docLink = document.createElement('div');\n",
              "          docLink.innerHTML = docLinkHtml;\n",
              "          element.appendChild(docLink);\n",
              "        }\n",
              "      </script>\n",
              "    </div>\n",
              "  </div>\n",
              "  "
            ]
          },
          "metadata": {},
          "execution_count": 4
        }
      ],
      "source": [
        "# upload dataset\n",
        "pea = pd.read_csv('raw_pea.csv', sep=',', encoding='cp949')\n",
        "pea.head()"
      ]
    },
    {
      "cell_type": "code",
      "execution_count": 5,
      "id": "cb422b46",
      "metadata": {
        "colab": {
          "base_uri": "https://localhost:8080/",
          "height": 423
        },
        "id": "cb422b46",
        "outputId": "b662ddc5-7b22-4eaf-cdd9-b17530738a1c"
      },
      "outputs": [
        {
          "output_type": "execute_result",
          "data": {
            "text/plain": [
              "      age  sex diabetes hypertension smoking  palate  PEA  threshold  \\\n",
              "1    28.0    M        0            0       1     0.0  4.0        4.0   \n",
              "2    21.0    M        0            0       0     0.0  5.0        4.0   \n",
              "3    73.0    F        0            0       0     0.0  3.0        4.0   \n",
              "4    40.0    M        0            0       1     0.0  2.0        5.5   \n",
              "5    71.0    M        0            0       0     1.0  6.0        4.0   \n",
              "..    ...  ...      ...          ...     ...     ...  ...        ...   \n",
              "136  45.0    M        0            1       1     0.0  7.0        7.0   \n",
              "137  35.0    M        0            0       0     1.0  0.0        0.0   \n",
              "138  54.0    M        0            0       0     1.0  0.0        0.0   \n",
              "139  50.0    F        0            0       0     0.0  1.0        6.0   \n",
              "140   NaN  NaN      NaN            0     NaN     NaN  NaN        NaN   \n",
              "\n",
              "     discrimination  identification   TDI  olfactory  \n",
              "1               8.0            11.0  23.0        3.0  \n",
              "2               8.0            12.0  24.0        3.0  \n",
              "3              10.0            12.0  26.0        3.0  \n",
              "4               8.0            11.0  24.5        3.0  \n",
              "5               8.0             9.0  21.0        2.0  \n",
              "..              ...             ...   ...        ...  \n",
              "136             6.0            11.0  24.0        3.0  \n",
              "137             6.0             4.0  10.0        1.0  \n",
              "138             2.0             2.0   4.0        1.0  \n",
              "139             8.0            11.0  25.0        3.0  \n",
              "140             NaN             NaN   NaN        NaN  \n",
              "\n",
              "[140 rows x 12 columns]"
            ],
            "text/html": [
              "\n",
              "  <div id=\"df-8dc95847-4ee2-44b6-8261-2182f400f287\">\n",
              "    <div class=\"colab-df-container\">\n",
              "      <div>\n",
              "<style scoped>\n",
              "    .dataframe tbody tr th:only-of-type {\n",
              "        vertical-align: middle;\n",
              "    }\n",
              "\n",
              "    .dataframe tbody tr th {\n",
              "        vertical-align: top;\n",
              "    }\n",
              "\n",
              "    .dataframe thead th {\n",
              "        text-align: right;\n",
              "    }\n",
              "</style>\n",
              "<table border=\"1\" class=\"dataframe\">\n",
              "  <thead>\n",
              "    <tr style=\"text-align: right;\">\n",
              "      <th></th>\n",
              "      <th>age</th>\n",
              "      <th>sex</th>\n",
              "      <th>diabetes</th>\n",
              "      <th>hypertension</th>\n",
              "      <th>smoking</th>\n",
              "      <th>palate</th>\n",
              "      <th>PEA</th>\n",
              "      <th>threshold</th>\n",
              "      <th>discrimination</th>\n",
              "      <th>identification</th>\n",
              "      <th>TDI</th>\n",
              "      <th>olfactory</th>\n",
              "    </tr>\n",
              "  </thead>\n",
              "  <tbody>\n",
              "    <tr>\n",
              "      <th>1</th>\n",
              "      <td>28.0</td>\n",
              "      <td>M</td>\n",
              "      <td>0</td>\n",
              "      <td>0</td>\n",
              "      <td>1</td>\n",
              "      <td>0.0</td>\n",
              "      <td>4.0</td>\n",
              "      <td>4.0</td>\n",
              "      <td>8.0</td>\n",
              "      <td>11.0</td>\n",
              "      <td>23.0</td>\n",
              "      <td>3.0</td>\n",
              "    </tr>\n",
              "    <tr>\n",
              "      <th>2</th>\n",
              "      <td>21.0</td>\n",
              "      <td>M</td>\n",
              "      <td>0</td>\n",
              "      <td>0</td>\n",
              "      <td>0</td>\n",
              "      <td>0.0</td>\n",
              "      <td>5.0</td>\n",
              "      <td>4.0</td>\n",
              "      <td>8.0</td>\n",
              "      <td>12.0</td>\n",
              "      <td>24.0</td>\n",
              "      <td>3.0</td>\n",
              "    </tr>\n",
              "    <tr>\n",
              "      <th>3</th>\n",
              "      <td>73.0</td>\n",
              "      <td>F</td>\n",
              "      <td>0</td>\n",
              "      <td>0</td>\n",
              "      <td>0</td>\n",
              "      <td>0.0</td>\n",
              "      <td>3.0</td>\n",
              "      <td>4.0</td>\n",
              "      <td>10.0</td>\n",
              "      <td>12.0</td>\n",
              "      <td>26.0</td>\n",
              "      <td>3.0</td>\n",
              "    </tr>\n",
              "    <tr>\n",
              "      <th>4</th>\n",
              "      <td>40.0</td>\n",
              "      <td>M</td>\n",
              "      <td>0</td>\n",
              "      <td>0</td>\n",
              "      <td>1</td>\n",
              "      <td>0.0</td>\n",
              "      <td>2.0</td>\n",
              "      <td>5.5</td>\n",
              "      <td>8.0</td>\n",
              "      <td>11.0</td>\n",
              "      <td>24.5</td>\n",
              "      <td>3.0</td>\n",
              "    </tr>\n",
              "    <tr>\n",
              "      <th>5</th>\n",
              "      <td>71.0</td>\n",
              "      <td>M</td>\n",
              "      <td>0</td>\n",
              "      <td>0</td>\n",
              "      <td>0</td>\n",
              "      <td>1.0</td>\n",
              "      <td>6.0</td>\n",
              "      <td>4.0</td>\n",
              "      <td>8.0</td>\n",
              "      <td>9.0</td>\n",
              "      <td>21.0</td>\n",
              "      <td>2.0</td>\n",
              "    </tr>\n",
              "    <tr>\n",
              "      <th>...</th>\n",
              "      <td>...</td>\n",
              "      <td>...</td>\n",
              "      <td>...</td>\n",
              "      <td>...</td>\n",
              "      <td>...</td>\n",
              "      <td>...</td>\n",
              "      <td>...</td>\n",
              "      <td>...</td>\n",
              "      <td>...</td>\n",
              "      <td>...</td>\n",
              "      <td>...</td>\n",
              "      <td>...</td>\n",
              "    </tr>\n",
              "    <tr>\n",
              "      <th>136</th>\n",
              "      <td>45.0</td>\n",
              "      <td>M</td>\n",
              "      <td>0</td>\n",
              "      <td>1</td>\n",
              "      <td>1</td>\n",
              "      <td>0.0</td>\n",
              "      <td>7.0</td>\n",
              "      <td>7.0</td>\n",
              "      <td>6.0</td>\n",
              "      <td>11.0</td>\n",
              "      <td>24.0</td>\n",
              "      <td>3.0</td>\n",
              "    </tr>\n",
              "    <tr>\n",
              "      <th>137</th>\n",
              "      <td>35.0</td>\n",
              "      <td>M</td>\n",
              "      <td>0</td>\n",
              "      <td>0</td>\n",
              "      <td>0</td>\n",
              "      <td>1.0</td>\n",
              "      <td>0.0</td>\n",
              "      <td>0.0</td>\n",
              "      <td>6.0</td>\n",
              "      <td>4.0</td>\n",
              "      <td>10.0</td>\n",
              "      <td>1.0</td>\n",
              "    </tr>\n",
              "    <tr>\n",
              "      <th>138</th>\n",
              "      <td>54.0</td>\n",
              "      <td>M</td>\n",
              "      <td>0</td>\n",
              "      <td>0</td>\n",
              "      <td>0</td>\n",
              "      <td>1.0</td>\n",
              "      <td>0.0</td>\n",
              "      <td>0.0</td>\n",
              "      <td>2.0</td>\n",
              "      <td>2.0</td>\n",
              "      <td>4.0</td>\n",
              "      <td>1.0</td>\n",
              "    </tr>\n",
              "    <tr>\n",
              "      <th>139</th>\n",
              "      <td>50.0</td>\n",
              "      <td>F</td>\n",
              "      <td>0</td>\n",
              "      <td>0</td>\n",
              "      <td>0</td>\n",
              "      <td>0.0</td>\n",
              "      <td>1.0</td>\n",
              "      <td>6.0</td>\n",
              "      <td>8.0</td>\n",
              "      <td>11.0</td>\n",
              "      <td>25.0</td>\n",
              "      <td>3.0</td>\n",
              "    </tr>\n",
              "    <tr>\n",
              "      <th>140</th>\n",
              "      <td>NaN</td>\n",
              "      <td>NaN</td>\n",
              "      <td>NaN</td>\n",
              "      <td>0</td>\n",
              "      <td>NaN</td>\n",
              "      <td>NaN</td>\n",
              "      <td>NaN</td>\n",
              "      <td>NaN</td>\n",
              "      <td>NaN</td>\n",
              "      <td>NaN</td>\n",
              "      <td>NaN</td>\n",
              "      <td>NaN</td>\n",
              "    </tr>\n",
              "  </tbody>\n",
              "</table>\n",
              "<p>140 rows × 12 columns</p>\n",
              "</div>\n",
              "      <button class=\"colab-df-convert\" onclick=\"convertToInteractive('df-8dc95847-4ee2-44b6-8261-2182f400f287')\"\n",
              "              title=\"Convert this dataframe to an interactive table.\"\n",
              "              style=\"display:none;\">\n",
              "        \n",
              "  <svg xmlns=\"http://www.w3.org/2000/svg\" height=\"24px\"viewBox=\"0 0 24 24\"\n",
              "       width=\"24px\">\n",
              "    <path d=\"M0 0h24v24H0V0z\" fill=\"none\"/>\n",
              "    <path d=\"M18.56 5.44l.94 2.06.94-2.06 2.06-.94-2.06-.94-.94-2.06-.94 2.06-2.06.94zm-11 1L8.5 8.5l.94-2.06 2.06-.94-2.06-.94L8.5 2.5l-.94 2.06-2.06.94zm10 10l.94 2.06.94-2.06 2.06-.94-2.06-.94-.94-2.06-.94 2.06-2.06.94z\"/><path d=\"M17.41 7.96l-1.37-1.37c-.4-.4-.92-.59-1.43-.59-.52 0-1.04.2-1.43.59L10.3 9.45l-7.72 7.72c-.78.78-.78 2.05 0 2.83L4 21.41c.39.39.9.59 1.41.59.51 0 1.02-.2 1.41-.59l7.78-7.78 2.81-2.81c.8-.78.8-2.07 0-2.86zM5.41 20L4 18.59l7.72-7.72 1.47 1.35L5.41 20z\"/>\n",
              "  </svg>\n",
              "      </button>\n",
              "      \n",
              "  <style>\n",
              "    .colab-df-container {\n",
              "      display:flex;\n",
              "      flex-wrap:wrap;\n",
              "      gap: 12px;\n",
              "    }\n",
              "\n",
              "    .colab-df-convert {\n",
              "      background-color: #E8F0FE;\n",
              "      border: none;\n",
              "      border-radius: 50%;\n",
              "      cursor: pointer;\n",
              "      display: none;\n",
              "      fill: #1967D2;\n",
              "      height: 32px;\n",
              "      padding: 0 0 0 0;\n",
              "      width: 32px;\n",
              "    }\n",
              "\n",
              "    .colab-df-convert:hover {\n",
              "      background-color: #E2EBFA;\n",
              "      box-shadow: 0px 1px 2px rgba(60, 64, 67, 0.3), 0px 1px 3px 1px rgba(60, 64, 67, 0.15);\n",
              "      fill: #174EA6;\n",
              "    }\n",
              "\n",
              "    [theme=dark] .colab-df-convert {\n",
              "      background-color: #3B4455;\n",
              "      fill: #D2E3FC;\n",
              "    }\n",
              "\n",
              "    [theme=dark] .colab-df-convert:hover {\n",
              "      background-color: #434B5C;\n",
              "      box-shadow: 0px 1px 3px 1px rgba(0, 0, 0, 0.15);\n",
              "      filter: drop-shadow(0px 1px 2px rgba(0, 0, 0, 0.3));\n",
              "      fill: #FFFFFF;\n",
              "    }\n",
              "  </style>\n",
              "\n",
              "      <script>\n",
              "        const buttonEl =\n",
              "          document.querySelector('#df-8dc95847-4ee2-44b6-8261-2182f400f287 button.colab-df-convert');\n",
              "        buttonEl.style.display =\n",
              "          google.colab.kernel.accessAllowed ? 'block' : 'none';\n",
              "\n",
              "        async function convertToInteractive(key) {\n",
              "          const element = document.querySelector('#df-8dc95847-4ee2-44b6-8261-2182f400f287');\n",
              "          const dataTable =\n",
              "            await google.colab.kernel.invokeFunction('convertToInteractive',\n",
              "                                                     [key], {});\n",
              "          if (!dataTable) return;\n",
              "\n",
              "          const docLinkHtml = 'Like what you see? Visit the ' +\n",
              "            '<a target=\"_blank\" href=https://colab.research.google.com/notebooks/data_table.ipynb>data table notebook</a>'\n",
              "            + ' to learn more about interactive tables.';\n",
              "          element.innerHTML = '';\n",
              "          dataTable['output_type'] = 'display_data';\n",
              "          await google.colab.output.renderOutput(dataTable, element);\n",
              "          const docLink = document.createElement('div');\n",
              "          docLink.innerHTML = docLinkHtml;\n",
              "          element.appendChild(docLink);\n",
              "        }\n",
              "      </script>\n",
              "    </div>\n",
              "  </div>\n",
              "  "
            ]
          },
          "metadata": {},
          "execution_count": 5
        }
      ],
      "source": [
        "# 기존 제목 행이 1,2 두 행이므로 0행 제거\n",
        "pea.drop(index=0, axis=0, inplace=True)\n",
        "\n",
        "# 사용 변수 이외 열 제거\n",
        "pea = pea[['나이', '성별', '동반 질환', 'Unnamed: 5', '흡연력', '미각 저하여부', \n",
        "           'PEA bead system', 'KVSS_\\nthreshold', 'KVSS_\\ndiscrimination',\n",
        "           'KVSS_\\nIdentificatoin', 'KVSS_\\nTDI', '후각 정도']]\n",
        "# 열 이름 변경\n",
        "pea.columns = ['age', 'sex', 'diabetes', 'hypertension', 'smoking', 'palate',\n",
        "               'PEA', 'threshold', 'discrimination', 'identification', 'TDI', 'olfactory']\n",
        "\n",
        "pea"
      ]
    },
    {
      "cell_type": "code",
      "execution_count": 6,
      "id": "0cc0fc3a",
      "metadata": {
        "colab": {
          "base_uri": "https://localhost:8080/",
          "height": 425
        },
        "id": "0cc0fc3a",
        "outputId": "41eda6e3-b962-40ed-fd6a-c4a3f3afc0b1"
      },
      "outputs": [
        {
          "output_type": "execute_result",
          "data": {
            "text/plain": [
              "                null\n",
              "age                1\n",
              "sex                1\n",
              "diabetes           1\n",
              "hypertension       0\n",
              "smoking            2\n",
              "palate             1\n",
              "PEA                1\n",
              "threshold          1\n",
              "discrimination     1\n",
              "identification     1\n",
              "TDI                1\n",
              "olfactory          1"
            ],
            "text/html": [
              "\n",
              "  <div id=\"df-ff668e13-ca75-49d5-8211-2907c505cc9a\">\n",
              "    <div class=\"colab-df-container\">\n",
              "      <div>\n",
              "<style scoped>\n",
              "    .dataframe tbody tr th:only-of-type {\n",
              "        vertical-align: middle;\n",
              "    }\n",
              "\n",
              "    .dataframe tbody tr th {\n",
              "        vertical-align: top;\n",
              "    }\n",
              "\n",
              "    .dataframe thead th {\n",
              "        text-align: right;\n",
              "    }\n",
              "</style>\n",
              "<table border=\"1\" class=\"dataframe\">\n",
              "  <thead>\n",
              "    <tr style=\"text-align: right;\">\n",
              "      <th></th>\n",
              "      <th>null</th>\n",
              "    </tr>\n",
              "  </thead>\n",
              "  <tbody>\n",
              "    <tr>\n",
              "      <th>age</th>\n",
              "      <td>1</td>\n",
              "    </tr>\n",
              "    <tr>\n",
              "      <th>sex</th>\n",
              "      <td>1</td>\n",
              "    </tr>\n",
              "    <tr>\n",
              "      <th>diabetes</th>\n",
              "      <td>1</td>\n",
              "    </tr>\n",
              "    <tr>\n",
              "      <th>hypertension</th>\n",
              "      <td>0</td>\n",
              "    </tr>\n",
              "    <tr>\n",
              "      <th>smoking</th>\n",
              "      <td>2</td>\n",
              "    </tr>\n",
              "    <tr>\n",
              "      <th>palate</th>\n",
              "      <td>1</td>\n",
              "    </tr>\n",
              "    <tr>\n",
              "      <th>PEA</th>\n",
              "      <td>1</td>\n",
              "    </tr>\n",
              "    <tr>\n",
              "      <th>threshold</th>\n",
              "      <td>1</td>\n",
              "    </tr>\n",
              "    <tr>\n",
              "      <th>discrimination</th>\n",
              "      <td>1</td>\n",
              "    </tr>\n",
              "    <tr>\n",
              "      <th>identification</th>\n",
              "      <td>1</td>\n",
              "    </tr>\n",
              "    <tr>\n",
              "      <th>TDI</th>\n",
              "      <td>1</td>\n",
              "    </tr>\n",
              "    <tr>\n",
              "      <th>olfactory</th>\n",
              "      <td>1</td>\n",
              "    </tr>\n",
              "  </tbody>\n",
              "</table>\n",
              "</div>\n",
              "      <button class=\"colab-df-convert\" onclick=\"convertToInteractive('df-ff668e13-ca75-49d5-8211-2907c505cc9a')\"\n",
              "              title=\"Convert this dataframe to an interactive table.\"\n",
              "              style=\"display:none;\">\n",
              "        \n",
              "  <svg xmlns=\"http://www.w3.org/2000/svg\" height=\"24px\"viewBox=\"0 0 24 24\"\n",
              "       width=\"24px\">\n",
              "    <path d=\"M0 0h24v24H0V0z\" fill=\"none\"/>\n",
              "    <path d=\"M18.56 5.44l.94 2.06.94-2.06 2.06-.94-2.06-.94-.94-2.06-.94 2.06-2.06.94zm-11 1L8.5 8.5l.94-2.06 2.06-.94-2.06-.94L8.5 2.5l-.94 2.06-2.06.94zm10 10l.94 2.06.94-2.06 2.06-.94-2.06-.94-.94-2.06-.94 2.06-2.06.94z\"/><path d=\"M17.41 7.96l-1.37-1.37c-.4-.4-.92-.59-1.43-.59-.52 0-1.04.2-1.43.59L10.3 9.45l-7.72 7.72c-.78.78-.78 2.05 0 2.83L4 21.41c.39.39.9.59 1.41.59.51 0 1.02-.2 1.41-.59l7.78-7.78 2.81-2.81c.8-.78.8-2.07 0-2.86zM5.41 20L4 18.59l7.72-7.72 1.47 1.35L5.41 20z\"/>\n",
              "  </svg>\n",
              "      </button>\n",
              "      \n",
              "  <style>\n",
              "    .colab-df-container {\n",
              "      display:flex;\n",
              "      flex-wrap:wrap;\n",
              "      gap: 12px;\n",
              "    }\n",
              "\n",
              "    .colab-df-convert {\n",
              "      background-color: #E8F0FE;\n",
              "      border: none;\n",
              "      border-radius: 50%;\n",
              "      cursor: pointer;\n",
              "      display: none;\n",
              "      fill: #1967D2;\n",
              "      height: 32px;\n",
              "      padding: 0 0 0 0;\n",
              "      width: 32px;\n",
              "    }\n",
              "\n",
              "    .colab-df-convert:hover {\n",
              "      background-color: #E2EBFA;\n",
              "      box-shadow: 0px 1px 2px rgba(60, 64, 67, 0.3), 0px 1px 3px 1px rgba(60, 64, 67, 0.15);\n",
              "      fill: #174EA6;\n",
              "    }\n",
              "\n",
              "    [theme=dark] .colab-df-convert {\n",
              "      background-color: #3B4455;\n",
              "      fill: #D2E3FC;\n",
              "    }\n",
              "\n",
              "    [theme=dark] .colab-df-convert:hover {\n",
              "      background-color: #434B5C;\n",
              "      box-shadow: 0px 1px 3px 1px rgba(0, 0, 0, 0.15);\n",
              "      filter: drop-shadow(0px 1px 2px rgba(0, 0, 0, 0.3));\n",
              "      fill: #FFFFFF;\n",
              "    }\n",
              "  </style>\n",
              "\n",
              "      <script>\n",
              "        const buttonEl =\n",
              "          document.querySelector('#df-ff668e13-ca75-49d5-8211-2907c505cc9a button.colab-df-convert');\n",
              "        buttonEl.style.display =\n",
              "          google.colab.kernel.accessAllowed ? 'block' : 'none';\n",
              "\n",
              "        async function convertToInteractive(key) {\n",
              "          const element = document.querySelector('#df-ff668e13-ca75-49d5-8211-2907c505cc9a');\n",
              "          const dataTable =\n",
              "            await google.colab.kernel.invokeFunction('convertToInteractive',\n",
              "                                                     [key], {});\n",
              "          if (!dataTable) return;\n",
              "\n",
              "          const docLinkHtml = 'Like what you see? Visit the ' +\n",
              "            '<a target=\"_blank\" href=https://colab.research.google.com/notebooks/data_table.ipynb>data table notebook</a>'\n",
              "            + ' to learn more about interactive tables.';\n",
              "          element.innerHTML = '';\n",
              "          dataTable['output_type'] = 'display_data';\n",
              "          await google.colab.output.renderOutput(dataTable, element);\n",
              "          const docLink = document.createElement('div');\n",
              "          docLink.innerHTML = docLinkHtml;\n",
              "          element.appendChild(docLink);\n",
              "        }\n",
              "      </script>\n",
              "    </div>\n",
              "  </div>\n",
              "  "
            ]
          },
          "metadata": {},
          "execution_count": 6
        }
      ],
      "source": [
        "# 결측치 확인\n",
        "pea.isnull().sum().to_frame('null')"
      ]
    },
    {
      "cell_type": "code",
      "execution_count": 7,
      "id": "f04295be",
      "metadata": {
        "colab": {
          "base_uri": "https://localhost:8080/",
          "height": 112
        },
        "id": "f04295be",
        "outputId": "a6024178-125f-41bb-cfc5-fe37bd27550e"
      },
      "outputs": [
        {
          "output_type": "execute_result",
          "data": {
            "text/plain": [
              "      age  sex diabetes hypertension smoking  palate  PEA  threshold  \\\n",
              "125  63.0    M        1            0     NaN     0.0  3.0        5.0   \n",
              "140   NaN  NaN      NaN            0     NaN     NaN  NaN        NaN   \n",
              "\n",
              "     discrimination  identification   TDI  olfactory  \n",
              "125             6.0            12.0  23.0        3.0  \n",
              "140             NaN             NaN   NaN        NaN  "
            ],
            "text/html": [
              "\n",
              "  <div id=\"df-a6b6e658-be31-4af5-8128-c11ebcc75502\">\n",
              "    <div class=\"colab-df-container\">\n",
              "      <div>\n",
              "<style scoped>\n",
              "    .dataframe tbody tr th:only-of-type {\n",
              "        vertical-align: middle;\n",
              "    }\n",
              "\n",
              "    .dataframe tbody tr th {\n",
              "        vertical-align: top;\n",
              "    }\n",
              "\n",
              "    .dataframe thead th {\n",
              "        text-align: right;\n",
              "    }\n",
              "</style>\n",
              "<table border=\"1\" class=\"dataframe\">\n",
              "  <thead>\n",
              "    <tr style=\"text-align: right;\">\n",
              "      <th></th>\n",
              "      <th>age</th>\n",
              "      <th>sex</th>\n",
              "      <th>diabetes</th>\n",
              "      <th>hypertension</th>\n",
              "      <th>smoking</th>\n",
              "      <th>palate</th>\n",
              "      <th>PEA</th>\n",
              "      <th>threshold</th>\n",
              "      <th>discrimination</th>\n",
              "      <th>identification</th>\n",
              "      <th>TDI</th>\n",
              "      <th>olfactory</th>\n",
              "    </tr>\n",
              "  </thead>\n",
              "  <tbody>\n",
              "    <tr>\n",
              "      <th>125</th>\n",
              "      <td>63.0</td>\n",
              "      <td>M</td>\n",
              "      <td>1</td>\n",
              "      <td>0</td>\n",
              "      <td>NaN</td>\n",
              "      <td>0.0</td>\n",
              "      <td>3.0</td>\n",
              "      <td>5.0</td>\n",
              "      <td>6.0</td>\n",
              "      <td>12.0</td>\n",
              "      <td>23.0</td>\n",
              "      <td>3.0</td>\n",
              "    </tr>\n",
              "    <tr>\n",
              "      <th>140</th>\n",
              "      <td>NaN</td>\n",
              "      <td>NaN</td>\n",
              "      <td>NaN</td>\n",
              "      <td>0</td>\n",
              "      <td>NaN</td>\n",
              "      <td>NaN</td>\n",
              "      <td>NaN</td>\n",
              "      <td>NaN</td>\n",
              "      <td>NaN</td>\n",
              "      <td>NaN</td>\n",
              "      <td>NaN</td>\n",
              "      <td>NaN</td>\n",
              "    </tr>\n",
              "  </tbody>\n",
              "</table>\n",
              "</div>\n",
              "      <button class=\"colab-df-convert\" onclick=\"convertToInteractive('df-a6b6e658-be31-4af5-8128-c11ebcc75502')\"\n",
              "              title=\"Convert this dataframe to an interactive table.\"\n",
              "              style=\"display:none;\">\n",
              "        \n",
              "  <svg xmlns=\"http://www.w3.org/2000/svg\" height=\"24px\"viewBox=\"0 0 24 24\"\n",
              "       width=\"24px\">\n",
              "    <path d=\"M0 0h24v24H0V0z\" fill=\"none\"/>\n",
              "    <path d=\"M18.56 5.44l.94 2.06.94-2.06 2.06-.94-2.06-.94-.94-2.06-.94 2.06-2.06.94zm-11 1L8.5 8.5l.94-2.06 2.06-.94-2.06-.94L8.5 2.5l-.94 2.06-2.06.94zm10 10l.94 2.06.94-2.06 2.06-.94-2.06-.94-.94-2.06-.94 2.06-2.06.94z\"/><path d=\"M17.41 7.96l-1.37-1.37c-.4-.4-.92-.59-1.43-.59-.52 0-1.04.2-1.43.59L10.3 9.45l-7.72 7.72c-.78.78-.78 2.05 0 2.83L4 21.41c.39.39.9.59 1.41.59.51 0 1.02-.2 1.41-.59l7.78-7.78 2.81-2.81c.8-.78.8-2.07 0-2.86zM5.41 20L4 18.59l7.72-7.72 1.47 1.35L5.41 20z\"/>\n",
              "  </svg>\n",
              "      </button>\n",
              "      \n",
              "  <style>\n",
              "    .colab-df-container {\n",
              "      display:flex;\n",
              "      flex-wrap:wrap;\n",
              "      gap: 12px;\n",
              "    }\n",
              "\n",
              "    .colab-df-convert {\n",
              "      background-color: #E8F0FE;\n",
              "      border: none;\n",
              "      border-radius: 50%;\n",
              "      cursor: pointer;\n",
              "      display: none;\n",
              "      fill: #1967D2;\n",
              "      height: 32px;\n",
              "      padding: 0 0 0 0;\n",
              "      width: 32px;\n",
              "    }\n",
              "\n",
              "    .colab-df-convert:hover {\n",
              "      background-color: #E2EBFA;\n",
              "      box-shadow: 0px 1px 2px rgba(60, 64, 67, 0.3), 0px 1px 3px 1px rgba(60, 64, 67, 0.15);\n",
              "      fill: #174EA6;\n",
              "    }\n",
              "\n",
              "    [theme=dark] .colab-df-convert {\n",
              "      background-color: #3B4455;\n",
              "      fill: #D2E3FC;\n",
              "    }\n",
              "\n",
              "    [theme=dark] .colab-df-convert:hover {\n",
              "      background-color: #434B5C;\n",
              "      box-shadow: 0px 1px 3px 1px rgba(0, 0, 0, 0.15);\n",
              "      filter: drop-shadow(0px 1px 2px rgba(0, 0, 0, 0.3));\n",
              "      fill: #FFFFFF;\n",
              "    }\n",
              "  </style>\n",
              "\n",
              "      <script>\n",
              "        const buttonEl =\n",
              "          document.querySelector('#df-a6b6e658-be31-4af5-8128-c11ebcc75502 button.colab-df-convert');\n",
              "        buttonEl.style.display =\n",
              "          google.colab.kernel.accessAllowed ? 'block' : 'none';\n",
              "\n",
              "        async function convertToInteractive(key) {\n",
              "          const element = document.querySelector('#df-a6b6e658-be31-4af5-8128-c11ebcc75502');\n",
              "          const dataTable =\n",
              "            await google.colab.kernel.invokeFunction('convertToInteractive',\n",
              "                                                     [key], {});\n",
              "          if (!dataTable) return;\n",
              "\n",
              "          const docLinkHtml = 'Like what you see? Visit the ' +\n",
              "            '<a target=\"_blank\" href=https://colab.research.google.com/notebooks/data_table.ipynb>data table notebook</a>'\n",
              "            + ' to learn more about interactive tables.';\n",
              "          element.innerHTML = '';\n",
              "          dataTable['output_type'] = 'display_data';\n",
              "          await google.colab.output.renderOutput(dataTable, element);\n",
              "          const docLink = document.createElement('div');\n",
              "          docLink.innerHTML = docLinkHtml;\n",
              "          element.appendChild(docLink);\n",
              "        }\n",
              "      </script>\n",
              "    </div>\n",
              "  </div>\n",
              "  "
            ]
          },
          "metadata": {},
          "execution_count": 7
        }
      ],
      "source": [
        "pea.loc[pea['smoking'].isna()]"
      ]
    },
    {
      "cell_type": "code",
      "execution_count": 8,
      "id": "8edf6839",
      "metadata": {
        "colab": {
          "base_uri": "https://localhost:8080/",
          "height": 423
        },
        "id": "8edf6839",
        "outputId": "ea2842e8-7c60-410d-a0d1-8480302add98"
      },
      "outputs": [
        {
          "output_type": "execute_result",
          "data": {
            "text/plain": [
              "      age sex diabetes hypertension smoking  palate  PEA  threshold  \\\n",
              "1    28.0   M        0            0       1     0.0  4.0        4.0   \n",
              "2    21.0   M        0            0       0     0.0  5.0        4.0   \n",
              "3    73.0   F        0            0       0     0.0  3.0        4.0   \n",
              "4    40.0   M        0            0       1     0.0  2.0        5.5   \n",
              "5    71.0   M        0            0       0     1.0  6.0        4.0   \n",
              "..    ...  ..      ...          ...     ...     ...  ...        ...   \n",
              "135  64.0   M        0            0       0     0.0  7.0        8.0   \n",
              "136  45.0   M        0            1       1     0.0  7.0        7.0   \n",
              "137  35.0   M        0            0       0     1.0  0.0        0.0   \n",
              "138  54.0   M        0            0       0     1.0  0.0        0.0   \n",
              "139  50.0   F        0            0       0     0.0  1.0        6.0   \n",
              "\n",
              "     discrimination  identification   TDI  olfactory  \n",
              "1               8.0            11.0  23.0        3.0  \n",
              "2               8.0            12.0  24.0        3.0  \n",
              "3              10.0            12.0  26.0        3.0  \n",
              "4               8.0            11.0  24.5        3.0  \n",
              "5               8.0             9.0  21.0        2.0  \n",
              "..              ...             ...   ...        ...  \n",
              "135             6.0            12.0  26.0        3.0  \n",
              "136             6.0            11.0  24.0        3.0  \n",
              "137             6.0             4.0  10.0        1.0  \n",
              "138             2.0             2.0   4.0        1.0  \n",
              "139             8.0            11.0  25.0        3.0  \n",
              "\n",
              "[139 rows x 12 columns]"
            ],
            "text/html": [
              "\n",
              "  <div id=\"df-a9d71e9d-23b5-4926-98b0-2ca771b82b0e\">\n",
              "    <div class=\"colab-df-container\">\n",
              "      <div>\n",
              "<style scoped>\n",
              "    .dataframe tbody tr th:only-of-type {\n",
              "        vertical-align: middle;\n",
              "    }\n",
              "\n",
              "    .dataframe tbody tr th {\n",
              "        vertical-align: top;\n",
              "    }\n",
              "\n",
              "    .dataframe thead th {\n",
              "        text-align: right;\n",
              "    }\n",
              "</style>\n",
              "<table border=\"1\" class=\"dataframe\">\n",
              "  <thead>\n",
              "    <tr style=\"text-align: right;\">\n",
              "      <th></th>\n",
              "      <th>age</th>\n",
              "      <th>sex</th>\n",
              "      <th>diabetes</th>\n",
              "      <th>hypertension</th>\n",
              "      <th>smoking</th>\n",
              "      <th>palate</th>\n",
              "      <th>PEA</th>\n",
              "      <th>threshold</th>\n",
              "      <th>discrimination</th>\n",
              "      <th>identification</th>\n",
              "      <th>TDI</th>\n",
              "      <th>olfactory</th>\n",
              "    </tr>\n",
              "  </thead>\n",
              "  <tbody>\n",
              "    <tr>\n",
              "      <th>1</th>\n",
              "      <td>28.0</td>\n",
              "      <td>M</td>\n",
              "      <td>0</td>\n",
              "      <td>0</td>\n",
              "      <td>1</td>\n",
              "      <td>0.0</td>\n",
              "      <td>4.0</td>\n",
              "      <td>4.0</td>\n",
              "      <td>8.0</td>\n",
              "      <td>11.0</td>\n",
              "      <td>23.0</td>\n",
              "      <td>3.0</td>\n",
              "    </tr>\n",
              "    <tr>\n",
              "      <th>2</th>\n",
              "      <td>21.0</td>\n",
              "      <td>M</td>\n",
              "      <td>0</td>\n",
              "      <td>0</td>\n",
              "      <td>0</td>\n",
              "      <td>0.0</td>\n",
              "      <td>5.0</td>\n",
              "      <td>4.0</td>\n",
              "      <td>8.0</td>\n",
              "      <td>12.0</td>\n",
              "      <td>24.0</td>\n",
              "      <td>3.0</td>\n",
              "    </tr>\n",
              "    <tr>\n",
              "      <th>3</th>\n",
              "      <td>73.0</td>\n",
              "      <td>F</td>\n",
              "      <td>0</td>\n",
              "      <td>0</td>\n",
              "      <td>0</td>\n",
              "      <td>0.0</td>\n",
              "      <td>3.0</td>\n",
              "      <td>4.0</td>\n",
              "      <td>10.0</td>\n",
              "      <td>12.0</td>\n",
              "      <td>26.0</td>\n",
              "      <td>3.0</td>\n",
              "    </tr>\n",
              "    <tr>\n",
              "      <th>4</th>\n",
              "      <td>40.0</td>\n",
              "      <td>M</td>\n",
              "      <td>0</td>\n",
              "      <td>0</td>\n",
              "      <td>1</td>\n",
              "      <td>0.0</td>\n",
              "      <td>2.0</td>\n",
              "      <td>5.5</td>\n",
              "      <td>8.0</td>\n",
              "      <td>11.0</td>\n",
              "      <td>24.5</td>\n",
              "      <td>3.0</td>\n",
              "    </tr>\n",
              "    <tr>\n",
              "      <th>5</th>\n",
              "      <td>71.0</td>\n",
              "      <td>M</td>\n",
              "      <td>0</td>\n",
              "      <td>0</td>\n",
              "      <td>0</td>\n",
              "      <td>1.0</td>\n",
              "      <td>6.0</td>\n",
              "      <td>4.0</td>\n",
              "      <td>8.0</td>\n",
              "      <td>9.0</td>\n",
              "      <td>21.0</td>\n",
              "      <td>2.0</td>\n",
              "    </tr>\n",
              "    <tr>\n",
              "      <th>...</th>\n",
              "      <td>...</td>\n",
              "      <td>...</td>\n",
              "      <td>...</td>\n",
              "      <td>...</td>\n",
              "      <td>...</td>\n",
              "      <td>...</td>\n",
              "      <td>...</td>\n",
              "      <td>...</td>\n",
              "      <td>...</td>\n",
              "      <td>...</td>\n",
              "      <td>...</td>\n",
              "      <td>...</td>\n",
              "    </tr>\n",
              "    <tr>\n",
              "      <th>135</th>\n",
              "      <td>64.0</td>\n",
              "      <td>M</td>\n",
              "      <td>0</td>\n",
              "      <td>0</td>\n",
              "      <td>0</td>\n",
              "      <td>0.0</td>\n",
              "      <td>7.0</td>\n",
              "      <td>8.0</td>\n",
              "      <td>6.0</td>\n",
              "      <td>12.0</td>\n",
              "      <td>26.0</td>\n",
              "      <td>3.0</td>\n",
              "    </tr>\n",
              "    <tr>\n",
              "      <th>136</th>\n",
              "      <td>45.0</td>\n",
              "      <td>M</td>\n",
              "      <td>0</td>\n",
              "      <td>1</td>\n",
              "      <td>1</td>\n",
              "      <td>0.0</td>\n",
              "      <td>7.0</td>\n",
              "      <td>7.0</td>\n",
              "      <td>6.0</td>\n",
              "      <td>11.0</td>\n",
              "      <td>24.0</td>\n",
              "      <td>3.0</td>\n",
              "    </tr>\n",
              "    <tr>\n",
              "      <th>137</th>\n",
              "      <td>35.0</td>\n",
              "      <td>M</td>\n",
              "      <td>0</td>\n",
              "      <td>0</td>\n",
              "      <td>0</td>\n",
              "      <td>1.0</td>\n",
              "      <td>0.0</td>\n",
              "      <td>0.0</td>\n",
              "      <td>6.0</td>\n",
              "      <td>4.0</td>\n",
              "      <td>10.0</td>\n",
              "      <td>1.0</td>\n",
              "    </tr>\n",
              "    <tr>\n",
              "      <th>138</th>\n",
              "      <td>54.0</td>\n",
              "      <td>M</td>\n",
              "      <td>0</td>\n",
              "      <td>0</td>\n",
              "      <td>0</td>\n",
              "      <td>1.0</td>\n",
              "      <td>0.0</td>\n",
              "      <td>0.0</td>\n",
              "      <td>2.0</td>\n",
              "      <td>2.0</td>\n",
              "      <td>4.0</td>\n",
              "      <td>1.0</td>\n",
              "    </tr>\n",
              "    <tr>\n",
              "      <th>139</th>\n",
              "      <td>50.0</td>\n",
              "      <td>F</td>\n",
              "      <td>0</td>\n",
              "      <td>0</td>\n",
              "      <td>0</td>\n",
              "      <td>0.0</td>\n",
              "      <td>1.0</td>\n",
              "      <td>6.0</td>\n",
              "      <td>8.0</td>\n",
              "      <td>11.0</td>\n",
              "      <td>25.0</td>\n",
              "      <td>3.0</td>\n",
              "    </tr>\n",
              "  </tbody>\n",
              "</table>\n",
              "<p>139 rows × 12 columns</p>\n",
              "</div>\n",
              "      <button class=\"colab-df-convert\" onclick=\"convertToInteractive('df-a9d71e9d-23b5-4926-98b0-2ca771b82b0e')\"\n",
              "              title=\"Convert this dataframe to an interactive table.\"\n",
              "              style=\"display:none;\">\n",
              "        \n",
              "  <svg xmlns=\"http://www.w3.org/2000/svg\" height=\"24px\"viewBox=\"0 0 24 24\"\n",
              "       width=\"24px\">\n",
              "    <path d=\"M0 0h24v24H0V0z\" fill=\"none\"/>\n",
              "    <path d=\"M18.56 5.44l.94 2.06.94-2.06 2.06-.94-2.06-.94-.94-2.06-.94 2.06-2.06.94zm-11 1L8.5 8.5l.94-2.06 2.06-.94-2.06-.94L8.5 2.5l-.94 2.06-2.06.94zm10 10l.94 2.06.94-2.06 2.06-.94-2.06-.94-.94-2.06-.94 2.06-2.06.94z\"/><path d=\"M17.41 7.96l-1.37-1.37c-.4-.4-.92-.59-1.43-.59-.52 0-1.04.2-1.43.59L10.3 9.45l-7.72 7.72c-.78.78-.78 2.05 0 2.83L4 21.41c.39.39.9.59 1.41.59.51 0 1.02-.2 1.41-.59l7.78-7.78 2.81-2.81c.8-.78.8-2.07 0-2.86zM5.41 20L4 18.59l7.72-7.72 1.47 1.35L5.41 20z\"/>\n",
              "  </svg>\n",
              "      </button>\n",
              "      \n",
              "  <style>\n",
              "    .colab-df-container {\n",
              "      display:flex;\n",
              "      flex-wrap:wrap;\n",
              "      gap: 12px;\n",
              "    }\n",
              "\n",
              "    .colab-df-convert {\n",
              "      background-color: #E8F0FE;\n",
              "      border: none;\n",
              "      border-radius: 50%;\n",
              "      cursor: pointer;\n",
              "      display: none;\n",
              "      fill: #1967D2;\n",
              "      height: 32px;\n",
              "      padding: 0 0 0 0;\n",
              "      width: 32px;\n",
              "    }\n",
              "\n",
              "    .colab-df-convert:hover {\n",
              "      background-color: #E2EBFA;\n",
              "      box-shadow: 0px 1px 2px rgba(60, 64, 67, 0.3), 0px 1px 3px 1px rgba(60, 64, 67, 0.15);\n",
              "      fill: #174EA6;\n",
              "    }\n",
              "\n",
              "    [theme=dark] .colab-df-convert {\n",
              "      background-color: #3B4455;\n",
              "      fill: #D2E3FC;\n",
              "    }\n",
              "\n",
              "    [theme=dark] .colab-df-convert:hover {\n",
              "      background-color: #434B5C;\n",
              "      box-shadow: 0px 1px 3px 1px rgba(0, 0, 0, 0.15);\n",
              "      filter: drop-shadow(0px 1px 2px rgba(0, 0, 0, 0.3));\n",
              "      fill: #FFFFFF;\n",
              "    }\n",
              "  </style>\n",
              "\n",
              "      <script>\n",
              "        const buttonEl =\n",
              "          document.querySelector('#df-a9d71e9d-23b5-4926-98b0-2ca771b82b0e button.colab-df-convert');\n",
              "        buttonEl.style.display =\n",
              "          google.colab.kernel.accessAllowed ? 'block' : 'none';\n",
              "\n",
              "        async function convertToInteractive(key) {\n",
              "          const element = document.querySelector('#df-a9d71e9d-23b5-4926-98b0-2ca771b82b0e');\n",
              "          const dataTable =\n",
              "            await google.colab.kernel.invokeFunction('convertToInteractive',\n",
              "                                                     [key], {});\n",
              "          if (!dataTable) return;\n",
              "\n",
              "          const docLinkHtml = 'Like what you see? Visit the ' +\n",
              "            '<a target=\"_blank\" href=https://colab.research.google.com/notebooks/data_table.ipynb>data table notebook</a>'\n",
              "            + ' to learn more about interactive tables.';\n",
              "          element.innerHTML = '';\n",
              "          dataTable['output_type'] = 'display_data';\n",
              "          await google.colab.output.renderOutput(dataTable, element);\n",
              "          const docLink = document.createElement('div');\n",
              "          docLink.innerHTML = docLinkHtml;\n",
              "          element.appendChild(docLink);\n",
              "        }\n",
              "      </script>\n",
              "    </div>\n",
              "  </div>\n",
              "  "
            ]
          },
          "metadata": {},
          "execution_count": 8
        }
      ],
      "source": [
        "# 결측치 처리\n",
        "pea.drop(index=140, axis=0, inplace=True) # 환자 데이터 아니므로 행 제거\n",
        "pea['smoking']= pea['smoking'].fillna(2) # nan 값 기타(2) 항목으로 대체\n",
        "pea"
      ]
    },
    {
      "cell_type": "code",
      "execution_count": 9,
      "id": "86ed207e",
      "metadata": {
        "colab": {
          "base_uri": "https://localhost:8080/"
        },
        "id": "86ed207e",
        "outputId": "5cd31e19-ac94-4a37-9f6d-cad7d3ab802b"
      },
      "outputs": [
        {
          "output_type": "execute_result",
          "data": {
            "text/plain": [
              "CategoricalDtype(categories=[1, 2, 3], ordered=True)"
            ]
          },
          "metadata": {},
          "execution_count": 9
        }
      ],
      "source": [
        "# olfactory(최종적인 후각 기능 진단 결과) 카테고리화\n",
        "cat_type = CategoricalDtype(categories=[1, 2, 3], ordered=True)\n",
        "pea['olfactory'] = pea['olfactory'].astype(cat_type)\n",
        "pea['olfactory'].dtype"
      ]
    },
    {
      "cell_type": "code",
      "execution_count": 10,
      "id": "6d432345",
      "metadata": {
        "id": "6d432345"
      },
      "outputs": [],
      "source": [
        "# sex(성별) 인코딩\n",
        "pea['sex'] = pea['sex'].apply(lambda x: 1 if x == 'M' else 0)"
      ]
    },
    {
      "cell_type": "code",
      "execution_count": 11,
      "id": "fef249c7",
      "metadata": {
        "id": "fef249c7"
      },
      "outputs": [],
      "source": [
        "# object -> float 타입 변경\n",
        "pea[['diabetes', 'hypertension', 'smoking']]= pea[['diabetes', 'hypertension', 'smoking']].astype('float')"
      ]
    },
    {
      "cell_type": "code",
      "execution_count": 12,
      "id": "b2cfddb7",
      "metadata": {
        "colab": {
          "base_uri": "https://localhost:8080/"
        },
        "id": "b2cfddb7",
        "outputId": "ad16fe6c-6389-4b77-d11c-01b48d6a4ca1"
      },
      "outputs": [
        {
          "output_type": "stream",
          "name": "stdout",
          "text": [
            "<class 'pandas.core.frame.DataFrame'>\n",
            "Int64Index: 139 entries, 1 to 139\n",
            "Data columns (total 12 columns):\n",
            " #   Column          Non-Null Count  Dtype   \n",
            "---  ------          --------------  -----   \n",
            " 0   age             139 non-null    float64 \n",
            " 1   sex             139 non-null    int64   \n",
            " 2   diabetes        139 non-null    float64 \n",
            " 3   hypertension    139 non-null    float64 \n",
            " 4   smoking         139 non-null    float64 \n",
            " 5   palate          139 non-null    float64 \n",
            " 6   PEA             139 non-null    float64 \n",
            " 7   threshold       139 non-null    float64 \n",
            " 8   discrimination  139 non-null    float64 \n",
            " 9   identification  139 non-null    float64 \n",
            " 10  TDI             139 non-null    float64 \n",
            " 11  olfactory       139 non-null    category\n",
            "dtypes: category(1), float64(10), int64(1)\n",
            "memory usage: 13.3 KB\n"
          ]
        }
      ],
      "source": [
        "pea.info()"
      ]
    },
    {
      "cell_type": "code",
      "execution_count": 13,
      "id": "af3b73ef",
      "metadata": {
        "id": "af3b73ef"
      },
      "outputs": [],
      "source": [
        "pea.to_csv('pea.csv')"
      ]
    },
    {
      "cell_type": "code",
      "execution_count": 14,
      "id": "ee7ffdc0",
      "metadata": {
        "colab": {
          "base_uri": "https://localhost:8080/"
        },
        "id": "ee7ffdc0",
        "outputId": "5fe0d4bf-8f6d-495c-aa54-2da83669bfb7"
      },
      "outputs": [
        {
          "output_type": "execute_result",
          "data": {
            "text/plain": [
              "Index(['age', 'sex', 'diabetes', 'hypertension', 'smoking', 'palate', 'PEA',\n",
              "       'threshold', 'discrimination', 'identification', 'TDI', 'olfactory'],\n",
              "      dtype='object')"
            ]
          },
          "metadata": {},
          "execution_count": 14
        }
      ],
      "source": [
        "pea.columns"
      ]
    },
    {
      "cell_type": "markdown",
      "id": "265785d0",
      "metadata": {
        "id": "265785d0"
      },
      "source": [
        "**[X 변수 설명]**\n",
        "\n",
        "1. age : 나이\n",
        "2. sex : 성별\n",
        "3. diabetes : 당뇨\n",
        "4. hypertension : 고혈압\n",
        "5. smoking : 흡연력\n",
        "6. palate : 미각 저하여부\n",
        "7. PEA : PEA detection threshold score\n",
        "8. threshold : threshold score\n",
        "9. discrimination : discrimination score\n",
        "10. identificatoin : identification score\n",
        "11. TDI : 위 세 가지 score 합\n",
        "\n",
        "\n",
        "**[Y 변수 설명]**\n",
        "\n",
        "1. olfactory : 후각 정도"
      ]
    },
    {
      "cell_type": "markdown",
      "id": "e9382b16",
      "metadata": {
        "id": "e9382b16"
      },
      "source": [
        "**| Logistic Regression**"
      ]
    },
    {
      "cell_type": "code",
      "execution_count": 22,
      "id": "78a4149d",
      "metadata": {
        "id": "78a4149d"
      },
      "outputs": [],
      "source": [
        "X = pea[['age', 'sex', 'diabetes', 'hypertension', 'palate', 'PEA']]\n",
        "y = pea['olfactory']"
      ]
    },
    {
      "cell_type": "code",
      "execution_count": 23,
      "id": "08eec26c",
      "metadata": {
        "id": "08eec26c"
      },
      "outputs": [],
      "source": [
        "X_train, X_test, y_train, y_test = train_test_split(X, y, random_state=0)"
      ]
    },
    {
      "cell_type": "markdown",
      "id": "e05a38b7",
      "metadata": {
        "id": "e05a38b7"
      },
      "source": [
        "***1-1. Multinomial Logistic Regression***"
      ]
    },
    {
      "cell_type": "code",
      "execution_count": 17,
      "id": "597481a7",
      "metadata": {
        "colab": {
          "base_uri": "https://localhost:8080/"
        },
        "id": "597481a7",
        "outputId": "abef461c-3cfa-4108-fbd1-96c4050c84c7"
      },
      "outputs": [
        {
          "output_type": "stream",
          "name": "stdout",
          "text": [
            "Estimated beta1 : \n",
            " [[ 0.00857094  0.3321277  -0.41643885  0.33994848  1.04149479 -1.04696284]\n",
            " [ 0.01536682 -0.04620128 -0.15737147 -0.29429949 -0.06485357  0.3040952 ]\n",
            " [-0.02393776 -0.28592642  0.57381032 -0.04564899 -0.97664122  0.74286764]]\n",
            "Estimated beta0 : \n",
            " [ 0.26615792 -1.1247421   0.85858418]\n"
          ]
        }
      ],
      "source": [
        "model = LogisticRegression(multi_class = 'multinomial', solver = 'lbfgs', random_state = 0).fit(X_train, y_train)\n",
        "print('Estimated beta1 : \\n', model.coef_)\n",
        "print('Estimated beta0 : \\n', model.intercept_)"
      ]
    },
    {
      "cell_type": "code",
      "execution_count": 18,
      "id": "f4f25e72",
      "metadata": {
        "colab": {
          "base_uri": "https://localhost:8080/"
        },
        "id": "f4f25e72",
        "outputId": "218e74e2-4ff1-4570-fe0d-363e3094f925"
      },
      "outputs": [
        {
          "output_type": "stream",
          "name": "stdout",
          "text": [
            "학습 결과 :  0.8076923076923077\n",
            "검증 결과 :  0.8\n"
          ]
        }
      ],
      "source": [
        "print('학습 결과 : ', model.score(X_train, y_train))\n",
        "print('검증 결과 : ', model.score(X_test, y_test))"
      ]
    },
    {
      "cell_type": "code",
      "execution_count": 19,
      "id": "3a7ab2d2",
      "metadata": {
        "colab": {
          "base_uri": "https://localhost:8080/"
        },
        "id": "3a7ab2d2",
        "outputId": "1285456d-8b05-42d2-a79b-b7fc5e17ddb2"
      },
      "outputs": [
        {
          "output_type": "stream",
          "name": "stdout",
          "text": [
            "classification_report - 학습데이터\n",
            "\n",
            "              precision    recall  f1-score   support\n",
            "\n",
            "           1       0.84      0.93      0.88        28\n",
            "           2       0.75      0.16      0.26        19\n",
            "           3       0.80      0.96      0.87        57\n",
            "\n",
            "    accuracy                           0.81       104\n",
            "   macro avg       0.80      0.68      0.67       104\n",
            "weighted avg       0.80      0.81      0.76       104\n",
            "\n",
            "\n",
            " classification_report - 검증데이터\n",
            "\n",
            "              precision    recall  f1-score   support\n",
            "\n",
            "           1       0.78      1.00      0.88         7\n",
            "           2       0.50      0.14      0.22         7\n",
            "           3       0.83      0.95      0.89        21\n",
            "\n",
            "    accuracy                           0.80        35\n",
            "   macro avg       0.70      0.70      0.66        35\n",
            "weighted avg       0.76      0.80      0.75        35\n",
            "\n"
          ]
        }
      ],
      "source": [
        "pred_train = model.predict(X_train)\n",
        "pred_test = model.predict(X_test)\n",
        "print('classification_report - 학습데이터\\n')\n",
        "print(classification_report(y_train, pred_train))\n",
        "print('\\n classification_report - 검증데이터\\n')\n",
        "print(classification_report(y_test, pred_test))"
      ]
    },
    {
      "cell_type": "code",
      "execution_count": 20,
      "id": "52871ade",
      "metadata": {
        "colab": {
          "base_uri": "https://localhost:8080/"
        },
        "id": "52871ade",
        "outputId": "31a72283-fa7b-4b9f-f5b8-9e58b8fb38d8"
      },
      "outputs": [
        {
          "output_type": "stream",
          "name": "stdout",
          "text": [
            "Confusion Matix : \n",
            " [[26  0  2]\n",
            " [ 4  3 12]\n",
            " [ 1  1 55]]\n"
          ]
        }
      ],
      "source": [
        "print('Confusion Matix : \\n', confusion_matrix(y_train, pred_train))"
      ]
    },
    {
      "cell_type": "code",
      "execution_count": 25,
      "id": "c188993b",
      "metadata": {
        "colab": {
          "base_uri": "https://localhost:8080/",
          "height": 347
        },
        "id": "c188993b",
        "outputId": "5a029c7e-9d5f-4037-e79e-e93ef9634680"
      },
      "outputs": [
        {
          "output_type": "display_data",
          "data": {
            "text/plain": [
              "<Figure size 432x288 with 1 Axes>"
            ],
            "image/png": "[encoded data removed]"
          },
          "metadata": {
            "needs_background": "light"
          }
        },
        {
          "output_type": "stream",
          "name": "stdout",
          "text": [
            "Micro-averaged One-vs-Rest ROC AUC score:\n",
            "0.94\n"
          ]
        }
      ],
      "source": [
        "# ROC AUC score & ROC Curve Plot\n",
        "y_score = model.predict_proba(X_test)\n",
        "\n",
        "from sklearn.preprocessing import LabelBinarizer\n",
        "\n",
        "label_binarizer = LabelBinarizer().fit(y_train)\n",
        "y_onehot_test = label_binarizer.transform(y_test)\n",
        "y_onehot_test.shape  # (n_samples, n_classes)\n",
        "\n",
        "label_binarizer.transform([1]), label_binarizer.transform([2]), label_binarizer.transform([3])\n",
        "\n",
        "# “1” or “non 1” (the rest).\n",
        "class_of_interest = 1\n",
        "class_id = np.flatnonzero(label_binarizer.classes_ == class_of_interest)[0]\n",
        "class_id\n",
        "\n",
        "RocCurveDisplay.from_predictions(\n",
        "    y_onehot_test.ravel(),\n",
        "    y_score.ravel(),\n",
        "    name=\"micro-average OvR\",\n",
        "    color=\"darkorange\",\n",
        ")\n",
        "plt.plot([0, 1], [0, 1], \"k--\", label=\"chance level (AUC = 0.5)\")\n",
        "plt.axis(\"square\")\n",
        "plt.xlabel(\"False Positive Rate\")\n",
        "plt.ylabel(\"True Positive Rate\")\n",
        "plt.title(\"Micro-averaged One-vs-Rest\\nReceiver Operating Characteristic\")\n",
        "plt.legend()\n",
        "plt.show()\n",
        "\n",
        "from sklearn.metrics import roc_curve, auc\n",
        "\n",
        "# store the fpr, tpr, and roc_auc for all averaging strategies\n",
        "fpr, tpr, roc_auc = dict(), dict(), dict()\n",
        "# Compute micro-average ROC curve and ROC area\n",
        "fpr[\"micro\"], tpr[\"micro\"], _ = roc_curve(y_onehot_test.ravel(), y_score.ravel())\n",
        "roc_auc[\"micro\"] = auc(fpr[\"micro\"], tpr[\"micro\"])\n",
        "\n",
        "print(f\"Micro-averaged One-vs-Rest ROC AUC score:\\n{roc_auc['micro']:.2f}\")"
      ]
    },
    {
      "cell_type": "markdown",
      "id": "2b5a4103",
      "metadata": {
        "id": "2b5a4103"
      },
      "source": [
        "***1-2. OVR Logistic Regression***"
      ]
    },
    {
      "cell_type": "code",
      "execution_count": null,
      "id": "2f6d9b39",
      "metadata": {
        "colab": {
          "base_uri": "https://localhost:8080/"
        },
        "id": "2f6d9b39",
        "outputId": "5ae1f737-f386-4f2a-a972-ebd76321ba2b"
      },
      "outputs": [
        {
          "output_type": "stream",
          "name": "stdout",
          "text": [
            "Estimated beta1 : \n",
            " [[ 0.01339467  0.44462099 -0.4040321   0.44489673  1.31654678 -1.52116514]\n",
            " [ 0.02938196 -0.15494308 -0.41875784 -0.2887827  -0.14515436 -0.04259593]\n",
            " [-0.03439068 -0.40322703  0.56430572  0.00644416 -1.32198989  0.774143  ]]\n",
            "Estimated beta0 : \n",
            " [-0.3440201  -2.67069616  0.63296656]\n"
          ]
        }
      ],
      "source": [
        "model_ovr = LogisticRegression(multi_class = 'ovr', solver = 'lbfgs', random_state = 0).fit(X_train, y_train)\n",
        "print('Estimated beta1 : \\n', model_ovr.coef_)\n",
        "print('Estimated beta0 : \\n', model_ovr.intercept_)"
      ]
    },
    {
      "cell_type": "code",
      "execution_count": null,
      "id": "0502b000",
      "metadata": {
        "colab": {
          "base_uri": "https://localhost:8080/"
        },
        "id": "0502b000",
        "outputId": "dca818d0-7df0-4413-c634-bdc8d0e0ab12"
      },
      "outputs": [
        {
          "output_type": "stream",
          "name": "stdout",
          "text": [
            "학습 결과 :  0.7980769230769231\n",
            "검증 결과 :  0.7714285714285715\n"
          ]
        }
      ],
      "source": [
        "print('학습 결과 : ', model_ovr.score(X_train, y_train))\n",
        "print('검증 결과 : ', model_ovr.score(X_test, y_test))"
      ]
    },
    {
      "cell_type": "code",
      "execution_count": null,
      "id": "05330dee",
      "metadata": {
        "colab": {
          "base_uri": "https://localhost:8080/"
        },
        "id": "05330dee",
        "outputId": "be0761c1-525f-49fd-ad19-c2418ef55940"
      },
      "outputs": [
        {
          "output_type": "stream",
          "name": "stdout",
          "text": [
            "classification_report - 학습데이터\n",
            "              precision    recall  f1-score   support\n",
            "\n",
            "           1       0.81      0.93      0.87        28\n",
            "           2       1.00      0.11      0.19        19\n",
            "           3       0.79      0.96      0.87        57\n",
            "\n",
            "    accuracy                           0.80       104\n",
            "   macro avg       0.87      0.67      0.64       104\n",
            "weighted avg       0.83      0.80      0.74       104\n",
            "\n"
          ]
        }
      ],
      "source": [
        "pred_train_ovr = model_ovr.predict(X_train)\n",
        "pred_test_ovr = model_ovr.predict(X_test)\n",
        "print('classification_report - 학습데이터')\n",
        "print(classification_report(y_train, pred_train_ovr))"
      ]
    },
    {
      "cell_type": "code",
      "execution_count": null,
      "id": "b8cdbfad",
      "metadata": {
        "colab": {
          "base_uri": "https://localhost:8080/"
        },
        "id": "b8cdbfad",
        "outputId": "70e827d5-bfc9-4b54-bb63-b8c529a62ac3"
      },
      "outputs": [
        {
          "output_type": "stream",
          "name": "stdout",
          "text": [
            "classification_report - 검증데이터\n",
            "              precision    recall  f1-score   support\n",
            "\n",
            "           1       0.70      1.00      0.82         7\n",
            "           2       0.00      0.00      0.00         7\n",
            "           3       0.80      0.95      0.87        21\n",
            "\n",
            "    accuracy                           0.77        35\n",
            "   macro avg       0.50      0.65      0.56        35\n",
            "weighted avg       0.62      0.77      0.69        35\n",
            "\n"
          ]
        }
      ],
      "source": [
        "print('classification_report - 검증데이터')\n",
        "print(classification_report(y_test, pred_test_ovr))"
      ]
    },
    {
      "cell_type": "code",
      "execution_count": null,
      "id": "a0dbd1c0",
      "metadata": {
        "colab": {
          "base_uri": "https://localhost:8080/"
        },
        "id": "a0dbd1c0",
        "outputId": "86cd7a97-08c3-4e63-8192-9915b316fc38"
      },
      "outputs": [
        {
          "output_type": "execute_result",
          "data": {
            "text/plain": [
              "array([[26,  0,  2],\n",
              "       [ 4,  2, 13],\n",
              "       [ 2,  0, 55]])"
            ]
          },
          "metadata": {},
          "execution_count": 28
        }
      ],
      "source": [
        "confusion_matrix(y_train, pred_train_ovr)"
      ]
    },
    {
      "cell_type": "markdown",
      "id": "2fadcb41",
      "metadata": {
        "id": "2fadcb41"
      },
      "source": [
        "***2. Ordinal Regression***"
      ]
    },
    {
      "cell_type": "code",
      "execution_count": 35,
      "id": "920bfe1e",
      "metadata": {
        "colab": {
          "base_uri": "https://localhost:8080/",
          "height": 433
        },
        "id": "920bfe1e",
        "outputId": "fe7c0ebe-15c1-47e4-8fc7-22c54d242791"
      },
      "outputs": [
        {
          "output_type": "stream",
          "name": "stdout",
          "text": [
            "Warning: Maximum number of iterations has been exceeded.\n"
          ]
        },
        {
          "output_type": "execute_result",
          "data": {
            "text/plain": [
              "<class 'statsmodels.iolib.summary.Summary'>\n",
              "\"\"\"\n",
              "                             OrderedModel Results                             \n",
              "==============================================================================\n",
              "Dep. Variable:              olfactory   Log-Likelihood:                -85.214\n",
              "Model:                   OrderedModel   AIC:                             188.4\n",
              "Method:            Maximum Likelihood   BIC:                             214.8\n",
              "Date:                Fri, 13 Jan 2023                                         \n",
              "Time:                        05:33:36                                         \n",
              "No. Observations:                 139                                         \n",
              "Df Residuals:                     130                                         \n",
              "Df Model:                           7                                         \n",
              "================================================================================\n",
              "                   coef    std err          z      P>|z|      [0.025      0.975]\n",
              "--------------------------------------------------------------------------------\n",
              "age             -0.0512      0.013     -3.821      0.000      -0.077      -0.025\n",
              "sex             -0.5273      0.513     -1.028      0.304      -1.532       0.478\n",
              "diabetes        -0.0203      0.926     -0.022      0.983      -1.835       1.794\n",
              "hypertension    -0.4013      0.622     -0.645      0.519      -1.621       0.818\n",
              "smoking          0.5392      0.360      1.497      0.134      -0.167       1.245\n",
              "palate          -0.5922      0.512     -1.158      0.247      -1.595       0.410\n",
              "PEA              1.1321      0.168      6.730      0.000       0.802       1.462\n",
              "1/2             -2.2013      0.782     -2.813      0.005      -3.735      -0.668\n",
              "2/3              0.6194      0.176      3.515      0.000       0.274       0.965\n",
              "================================================================================\n",
              "\"\"\""
            ],
            "text/html": [
              "<table class=\"simpletable\">\n",
              "<caption>OrderedModel Results</caption>\n",
              "<tr>\n",
              "  <th>Dep. Variable:</th>         <td>olfactory</td>     <th>  Log-Likelihood:    </th> <td> -85.214</td>\n",
              "</tr>\n",
              "<tr>\n",
              "  <th>Model:</th>               <td>OrderedModel</td>    <th>  AIC:               </th> <td>   188.4</td>\n",
              "</tr>\n",
              "<tr>\n",
              "  <th>Method:</th>           <td>Maximum Likelihood</td> <th>  BIC:               </th> <td>   214.8</td>\n",
              "</tr>\n",
              "<tr>\n",
              "  <th>Date:</th>              <td>Fri, 13 Jan 2023</td>  <th>                     </th>     <td> </td>   \n",
              "</tr>\n",
              "<tr>\n",
              "  <th>Time:</th>                  <td>05:33:36</td>      <th>                     </th>     <td> </td>   \n",
              "</tr>\n",
              "<tr>\n",
              "  <th>No. Observations:</th>       <td>   139</td>       <th>                     </th>     <td> </td>   \n",
              "</tr>\n",
              "<tr>\n",
              "  <th>Df Residuals:</th>           <td>   130</td>       <th>                     </th>     <td> </td>   \n",
              "</tr>\n",
              "<tr>\n",
              "  <th>Df Model:</th>               <td>     7</td>       <th>                     </th>     <td> </td>   \n",
              "</tr>\n",
              "</table>\n",
              "<table class=\"simpletable\">\n",
              "<tr>\n",
              "        <td></td>          <th>coef</th>     <th>std err</th>      <th>z</th>      <th>P>|z|</th>  <th>[0.025</th>    <th>0.975]</th>  \n",
              "</tr>\n",
              "<tr>\n",
              "  <th>age</th>          <td>   -0.0512</td> <td>    0.013</td> <td>   -3.821</td> <td> 0.000</td> <td>   -0.077</td> <td>   -0.025</td>\n",
              "</tr>\n",
              "<tr>\n",
              "  <th>sex</th>          <td>   -0.5273</td> <td>    0.513</td> <td>   -1.028</td> <td> 0.304</td> <td>   -1.532</td> <td>    0.478</td>\n",
              "</tr>\n",
              "<tr>\n",
              "  <th>diabetes</th>     <td>   -0.0203</td> <td>    0.926</td> <td>   -0.022</td> <td> 0.983</td> <td>   -1.835</td> <td>    1.794</td>\n",
              "</tr>\n",
              "<tr>\n",
              "  <th>hypertension</th> <td>   -0.4013</td> <td>    0.622</td> <td>   -0.645</td> <td> 0.519</td> <td>   -1.621</td> <td>    0.818</td>\n",
              "</tr>\n",
              "<tr>\n",
              "  <th>smoking</th>      <td>    0.5392</td> <td>    0.360</td> <td>    1.497</td> <td> 0.134</td> <td>   -0.167</td> <td>    1.245</td>\n",
              "</tr>\n",
              "<tr>\n",
              "  <th>palate</th>       <td>   -0.5922</td> <td>    0.512</td> <td>   -1.158</td> <td> 0.247</td> <td>   -1.595</td> <td>    0.410</td>\n",
              "</tr>\n",
              "<tr>\n",
              "  <th>PEA</th>          <td>    1.1321</td> <td>    0.168</td> <td>    6.730</td> <td> 0.000</td> <td>    0.802</td> <td>    1.462</td>\n",
              "</tr>\n",
              "<tr>\n",
              "  <th>1/2</th>          <td>   -2.2013</td> <td>    0.782</td> <td>   -2.813</td> <td> 0.005</td> <td>   -3.735</td> <td>   -0.668</td>\n",
              "</tr>\n",
              "<tr>\n",
              "  <th>2/3</th>          <td>    0.6194</td> <td>    0.176</td> <td>    3.515</td> <td> 0.000</td> <td>    0.274</td> <td>    0.965</td>\n",
              "</tr>\n",
              "</table>"
            ],
            "text/latex": "\\begin{center}\n\\begin{tabular}{lclc}\n\\toprule\n\\textbf{Dep. Variable:}    &     olfactory      & \\textbf{  Log-Likelihood:    } &   -85.214   \\\\\n\\textbf{Model:}            &    OrderedModel    & \\textbf{  AIC:               } &     188.4   \\\\\n\\textbf{Method:}           & Maximum Likelihood & \\textbf{  BIC:               } &     214.8   \\\\\n\\textbf{Date:}             &  Fri, 13 Jan 2023  & \\textbf{                     } &             \\\\\n\\textbf{Time:}             &      05:33:36      & \\textbf{                     } &             \\\\\n\\textbf{No. Observations:} &          139       & \\textbf{                     } &             \\\\\n\\textbf{Df Residuals:}     &          130       & \\textbf{                     } &             \\\\\n\\textbf{Df Model:}         &            7       & \\textbf{                     } &             \\\\\n\\bottomrule\n\\end{tabular}\n\\begin{tabular}{lcccccc}\n                      & \\textbf{coef} & \\textbf{std err} & \\textbf{z} & \\textbf{P$> |$z$|$} & \\textbf{[0.025} & \\textbf{0.975]}  \\\\\n\\midrule\n\\textbf{age}          &      -0.0512  &        0.013     &    -3.821  &         0.000        &       -0.077    &       -0.025     \\\\\n\\textbf{sex}          &      -0.5273  &        0.513     &    -1.028  &         0.304        &       -1.532    &        0.478     \\\\\n\\textbf{diabetes}     &      -0.0203  &        0.926     &    -0.022  &         0.983        &       -1.835    &        1.794     \\\\\n\\textbf{hypertension} &      -0.4013  &        0.622     &    -0.645  &         0.519        &       -1.621    &        0.818     \\\\\n\\textbf{smoking}      &       0.5392  &        0.360     &     1.497  &         0.134        &       -0.167    &        1.245     \\\\\n\\textbf{palate}       &      -0.5922  &        0.512     &    -1.158  &         0.247        &       -1.595    &        0.410     \\\\\n\\textbf{PEA}          &       1.1321  &        0.168     &     6.730  &         0.000        &        0.802    &        1.462     \\\\\n\\textbf{1/2}          &      -2.2013  &        0.782     &    -2.813  &         0.005        &       -3.735    &       -0.668     \\\\\n\\textbf{2/3}          &       0.6194  &        0.176     &     3.515  &         0.000        &        0.274    &        0.965     \\\\\n\\bottomrule\n\\end{tabular}\n%\\caption{OrderedModel Results}\n\\end{center}"
          },
          "metadata": {},
          "execution_count": 35
        }
      ],
      "source": [
        "ordinal_model = OrderedModel(pea['olfactory'], \n",
        "                             pea[['age', 'sex', 'diabetes', 'hypertension', 'smoking', 'palate', 'PEA']],\n",
        "                             distr = 'logit').fit()\n",
        "ordinal_model.summary()"
      ]
    },
    {
      "cell_type": "markdown",
      "id": "103b88be",
      "metadata": {
        "id": "103b88be"
      },
      "source": [
        "**[분석 결과]**\n",
        "1. 유의수준 0.05 하에서 유의한 변수 : age, PEA\n",
        "2. 유의수준 0.05 하에서 유의하지 않은 변수 : sex, diabetes, hypertension, smoking, palate\n",
        "\n",
        "    --> 유의하지 않은 변수 제외하여 모형 재설계"
      ]
    },
    {
      "cell_type": "code",
      "execution_count": 36,
      "id": "20f119c6",
      "metadata": {
        "id": "20f119c6"
      },
      "outputs": [],
      "source": [
        "predicted = ordinal_model.model.predict(ordinal_model.params, exog=pea[['age', 'sex', 'diabetes', 'hypertension', 'smoking', 'palate', 'PEA']])"
      ]
    },
    {
      "cell_type": "code",
      "execution_count": 37,
      "id": "9951ed20",
      "metadata": {
        "colab": {
          "base_uri": "https://localhost:8080/"
        },
        "id": "9951ed20",
        "outputId": "d7ab4cbd-459b-46a0-e5fc-b4c9589af4ba"
      },
      "outputs": [
        {
          "output_type": "stream",
          "name": "stdout",
          "text": [
            "Fraction of correct choice predictions\n",
            " : 0.7482014388489209\n"
          ]
        }
      ],
      "source": [
        "pred_choice = predicted.argmax(1)\n",
        "print('Fraction of correct choice predictions\\n :', (np.asarray(pea['olfactory'].values.codes) == pred_choice).mean())"
      ]
    },
    {
      "cell_type": "code",
      "execution_count": 38,
      "id": "095caf46",
      "metadata": {
        "colab": {
          "base_uri": "https://localhost:8080/"
        },
        "id": "095caf46",
        "outputId": "b1740f81-0087-475b-dd51-bd5a4aab40b7"
      },
      "outputs": [
        {
          "output_type": "execute_result",
          "data": {
            "text/plain": [
              "array([[30,  4,  1],\n",
              "       [ 6,  6, 14],\n",
              "       [ 2,  8, 68]])"
            ]
          },
          "metadata": {},
          "execution_count": 38
        }
      ],
      "source": [
        "cnf_matrix = confusion_matrix(np.asarray(pea['olfactory'].values.codes), pred_choice)\n",
        "cnf_matrix"
      ]
    },
    {
      "cell_type": "code",
      "execution_count": 39,
      "id": "71dc351b",
      "metadata": {
        "colab": {
          "base_uri": "https://localhost:8080/"
        },
        "id": "71dc351b",
        "outputId": "155ee01e-215d-4e98-91bd-f76ab5121d7d"
      },
      "outputs": [
        {
          "output_type": "stream",
          "name": "stdout",
          "text": [
            "label 1 : sensitivity - 0.8571 / specificity - 0.9231\n",
            "label 2 : sensitivity - 0.2308 / specificity - 0.8938\n",
            "label 3 : sensitivity - 0.8718 / specificity - 0.7541\n"
          ]
        }
      ],
      "source": [
        "ret = multilabel_confusion_matrix(np.asarray(pea['olfactory'].values.codes), pred_choice, labels=[0, 1, 2])\n",
        "\n",
        "tn0, fp0, fn0, tp0 = ret[0].ravel()\n",
        "tn1, fp1, fn1, tp1 = ret[1].ravel()\n",
        "tn2, fp2, fn2, tp2 = ret[2].ravel()\n",
        "\n",
        "sensitivity0 = tp0/(tp0 + fn0) # 민감도 label 1\n",
        "specificity0 = tn0/(tn0 + fp0) # 특이도 label 1\n",
        "\n",
        "sensitivity1 = tp1/(tp1 + fn1) # 민감도 label 2\n",
        "specificity1 = tn1/(tn1 + fp1) # 특이도 label 2\n",
        "\n",
        "sensitivity2 = tp2/(tp2 + fn2) # 민감도 label 3\n",
        "specificity2 = tn2/(tn2 + fp2) # 특이도 label 3\n",
        "\n",
        "#print('label 1 : tn, fp, fn, tp ', tn0, fp0, fn0, tp0 )\n",
        "#print('label 2 : tn, fp, fn, tp ', tn1, fp1, fn1, tp1 )\n",
        "#print('label 3 : tn, fp, fn, tp ', tn2, fp2, fn2, tp2 )\n",
        "\n",
        "print('label 1 : sensitivity - {:.4f} / specificity - {:.4f}'.format(sensitivity0, specificity0))\n",
        "print('label 2 : sensitivity - {:.4f} / specificity - {:.4f}'.format(sensitivity1, specificity1))\n",
        "print('label 3 : sensitivity - {:.4f} / specificity - {:.4f}'.format(sensitivity2, specificity2))"
      ]
    },
    {
      "cell_type": "code",
      "execution_count": 40,
      "id": "9fd71d27",
      "metadata": {
        "colab": {
          "base_uri": "https://localhost:8080/"
        },
        "id": "9fd71d27",
        "outputId": "1e30d218-b9ca-4b62-a5c8-5166399c10f3"
      },
      "outputs": [
        {
          "output_type": "stream",
          "name": "stdout",
          "text": [
            "ROC_AUC_Score \n",
            ": 0.8495285868925793\n"
          ]
        }
      ],
      "source": [
        "print('ROC_AUC_Score \\n:',roc_auc_score(pea['olfactory'], predicted, multi_class='ovr'))"
      ]
    },
    {
      "cell_type": "markdown",
      "id": "d7f30282",
      "metadata": {
        "id": "d7f30282"
      },
      "source": [
        "- 유의하지 않은 변수 제외"
      ]
    },
    {
      "cell_type": "code",
      "execution_count": 41,
      "id": "8defefc0",
      "metadata": {
        "colab": {
          "base_uri": "https://localhost:8080/",
          "height": 384
        },
        "id": "8defefc0",
        "outputId": "0b62d25d-0208-4a92-9fc4-bf49fa138564"
      },
      "outputs": [
        {
          "output_type": "stream",
          "name": "stdout",
          "text": [
            "Optimization terminated successfully.\n",
            "         Current function value: 0.640088\n",
            "         Iterations: 165\n",
            "         Function evaluations: 284\n"
          ]
        },
        {
          "output_type": "execute_result",
          "data": {
            "text/plain": [
              "<class 'statsmodels.iolib.summary.Summary'>\n",
              "\"\"\"\n",
              "                             OrderedModel Results                             \n",
              "==============================================================================\n",
              "Dep. Variable:              olfactory   Log-Likelihood:                -88.972\n",
              "Model:                   OrderedModel   AIC:                             185.9\n",
              "Method:            Maximum Likelihood   BIC:                             197.7\n",
              "Date:                Fri, 13 Jan 2023                                         \n",
              "Time:                        05:34:01                                         \n",
              "No. Observations:                 139                                         \n",
              "Df Residuals:                     135                                         \n",
              "Df Model:                           2                                         \n",
              "==============================================================================\n",
              "                 coef    std err          z      P>|z|      [0.025      0.975]\n",
              "------------------------------------------------------------------------------\n",
              "age           -0.0397      0.012     -3.384      0.001      -0.063      -0.017\n",
              "PEA            1.1115      0.162      6.867      0.000       0.794       1.429\n",
              "1/2           -1.2539      0.628     -1.997      0.046      -2.484      -0.024\n",
              "2/3            0.5028      0.184      2.730      0.006       0.142       0.864\n",
              "==============================================================================\n",
              "\"\"\""
            ],
            "text/html": [
              "<table class=\"simpletable\">\n",
              "<caption>OrderedModel Results</caption>\n",
              "<tr>\n",
              "  <th>Dep. Variable:</th>         <td>olfactory</td>     <th>  Log-Likelihood:    </th> <td> -88.972</td>\n",
              "</tr>\n",
              "<tr>\n",
              "  <th>Model:</th>               <td>OrderedModel</td>    <th>  AIC:               </th> <td>   185.9</td>\n",
              "</tr>\n",
              "<tr>\n",
              "  <th>Method:</th>           <td>Maximum Likelihood</td> <th>  BIC:               </th> <td>   197.7</td>\n",
              "</tr>\n",
              "<tr>\n",
              "  <th>Date:</th>              <td>Fri, 13 Jan 2023</td>  <th>                     </th>     <td> </td>   \n",
              "</tr>\n",
              "<tr>\n",
              "  <th>Time:</th>                  <td>05:34:01</td>      <th>                     </th>     <td> </td>   \n",
              "</tr>\n",
              "<tr>\n",
              "  <th>No. Observations:</th>       <td>   139</td>       <th>                     </th>     <td> </td>   \n",
              "</tr>\n",
              "<tr>\n",
              "  <th>Df Residuals:</th>           <td>   135</td>       <th>                     </th>     <td> </td>   \n",
              "</tr>\n",
              "<tr>\n",
              "  <th>Df Model:</th>               <td>     2</td>       <th>                     </th>     <td> </td>   \n",
              "</tr>\n",
              "</table>\n",
              "<table class=\"simpletable\">\n",
              "<tr>\n",
              "   <td></td>      <th>coef</th>     <th>std err</th>      <th>z</th>      <th>P>|z|</th>  <th>[0.025</th>    <th>0.975]</th>  \n",
              "</tr>\n",
              "<tr>\n",
              "  <th>age</th> <td>   -0.0397</td> <td>    0.012</td> <td>   -3.384</td> <td> 0.001</td> <td>   -0.063</td> <td>   -0.017</td>\n",
              "</tr>\n",
              "<tr>\n",
              "  <th>PEA</th> <td>    1.1115</td> <td>    0.162</td> <td>    6.867</td> <td> 0.000</td> <td>    0.794</td> <td>    1.429</td>\n",
              "</tr>\n",
              "<tr>\n",
              "  <th>1/2</th> <td>   -1.2539</td> <td>    0.628</td> <td>   -1.997</td> <td> 0.046</td> <td>   -2.484</td> <td>   -0.024</td>\n",
              "</tr>\n",
              "<tr>\n",
              "  <th>2/3</th> <td>    0.5028</td> <td>    0.184</td> <td>    2.730</td> <td> 0.006</td> <td>    0.142</td> <td>    0.864</td>\n",
              "</tr>\n",
              "</table>"
            ],
            "text/latex": "\\begin{center}\n\\begin{tabular}{lclc}\n\\toprule\n\\textbf{Dep. Variable:}    &     olfactory      & \\textbf{  Log-Likelihood:    } &   -88.972   \\\\\n\\textbf{Model:}            &    OrderedModel    & \\textbf{  AIC:               } &     185.9   \\\\\n\\textbf{Method:}           & Maximum Likelihood & \\textbf{  BIC:               } &     197.7   \\\\\n\\textbf{Date:}             &  Fri, 13 Jan 2023  & \\textbf{                     } &             \\\\\n\\textbf{Time:}             &      05:34:01      & \\textbf{                     } &             \\\\\n\\textbf{No. Observations:} &          139       & \\textbf{                     } &             \\\\\n\\textbf{Df Residuals:}     &          135       & \\textbf{                     } &             \\\\\n\\textbf{Df Model:}         &            2       & \\textbf{                     } &             \\\\\n\\bottomrule\n\\end{tabular}\n\\begin{tabular}{lcccccc}\n             & \\textbf{coef} & \\textbf{std err} & \\textbf{z} & \\textbf{P$> |$z$|$} & \\textbf{[0.025} & \\textbf{0.975]}  \\\\\n\\midrule\n\\textbf{age} &      -0.0397  &        0.012     &    -3.384  &         0.001        &       -0.063    &       -0.017     \\\\\n\\textbf{PEA} &       1.1115  &        0.162     &     6.867  &         0.000        &        0.794    &        1.429     \\\\\n\\textbf{1/2} &      -1.2539  &        0.628     &    -1.997  &         0.046        &       -2.484    &       -0.024     \\\\\n\\textbf{2/3} &       0.5028  &        0.184     &     2.730  &         0.006        &        0.142    &        0.864     \\\\\n\\bottomrule\n\\end{tabular}\n%\\caption{OrderedModel Results}\n\\end{center}"
          },
          "metadata": {},
          "execution_count": 41
        }
      ],
      "source": [
        "ordinal_model2 = OrderedModel(pea['olfactory'], \n",
        "                              pea[['age', 'PEA']],\n",
        "                              distr = 'logit').fit()\n",
        "ordinal_model2.summary()"
      ]
    },
    {
      "cell_type": "code",
      "execution_count": 42,
      "id": "ce502f0f",
      "metadata": {
        "id": "ce502f0f"
      },
      "outputs": [],
      "source": [
        "predicted2 = ordinal_model2.model.predict(ordinal_model2.params, exog=pea[['age', 'PEA']])"
      ]
    },
    {
      "cell_type": "code",
      "execution_count": 43,
      "id": "222dd46a",
      "metadata": {
        "colab": {
          "base_uri": "https://localhost:8080/"
        },
        "id": "222dd46a",
        "outputId": "1e6008c1-02fb-44a3-9825-4e7f0574f730"
      },
      "outputs": [
        {
          "output_type": "stream",
          "name": "stdout",
          "text": [
            "Fraction of correct choice predictions\n",
            ": 0.7410071942446043\n"
          ]
        }
      ],
      "source": [
        "pred_choice2 = predicted2.argmax(1)\n",
        "print('Fraction of correct choice predictions\\n:',(np.asarray(pea['olfactory'].values.codes) == pred_choice2).mean())"
      ]
    },
    {
      "cell_type": "code",
      "execution_count": 44,
      "id": "c41d9ac9",
      "metadata": {
        "colab": {
          "base_uri": "https://localhost:8080/"
        },
        "id": "c41d9ac9",
        "outputId": "e86333e0-0410-40ff-a9e2-c103d6dd0180"
      },
      "outputs": [
        {
          "output_type": "execute_result",
          "data": {
            "text/plain": [
              "array([[32,  2,  1],\n",
              "       [ 7,  3, 16],\n",
              "       [ 4,  6, 68]])"
            ]
          },
          "metadata": {},
          "execution_count": 44
        }
      ],
      "source": [
        "cnf_matrix2 = confusion_matrix(np.asarray(pea['olfactory'].values.codes), pred_choice2)\n",
        "cnf_matrix2"
      ]
    },
    {
      "cell_type": "code",
      "execution_count": 45,
      "id": "a5b70f39",
      "metadata": {
        "colab": {
          "base_uri": "https://localhost:8080/"
        },
        "id": "a5b70f39",
        "outputId": "c0e94041-29c5-41db-e53d-3fd96bec6f97"
      },
      "outputs": [
        {
          "output_type": "stream",
          "name": "stdout",
          "text": [
            "label 1 : sensitivity - 0.9143 / specificity - 0.8942\n",
            "label 2 : sensitivity - 0.1154 / specificity - 0.9292\n",
            "label 3 : sensitivity - 0.8718 / specificity - 0.7213\n"
          ]
        }
      ],
      "source": [
        "ret = multilabel_confusion_matrix(np.asarray(pea['olfactory'].values.codes), pred_choice2, labels=[0, 1, 2])\n",
        "\n",
        "tn0, fp0, fn0, tp0 = ret[0].ravel()\n",
        "tn1, fp1, fn1, tp1 = ret[1].ravel()\n",
        "tn2, fp2, fn2, tp2 = ret[2].ravel()\n",
        "\n",
        "sensitivity0 = tp0/(tp0 + fn0) # 민감도 label 1\n",
        "specificity0 = tn0/(tn0 + fp0) # 특이도 label 1\n",
        "\n",
        "sensitivity1 = tp1/(tp1 + fn1) # 민감도 label 2\n",
        "specificity1 = tn1/(tn1 + fp1) # 특이도 label 2\n",
        "\n",
        "sensitivity2 = tp2/(tp2 + fn2) # 민감도 label 3\n",
        "specificity2 = tn2/(tn2 + fp2) # 특이도 label 3\n",
        "\n",
        "#print('label 1 : tn, fp, fn, tp ', tn0, fp0, fn0, tp0 )\n",
        "#print('label 2 : tn, fp, fn, tp ', tn1, fp1, fn1, tp1 )\n",
        "#print('label 3 : tn, fp, fn, tp ', tn2, fp2, fn2, tp2 )\n",
        "\n",
        "print('label 1 : sensitivity - {:.4f} / specificity - {:.4f}'.format(sensitivity0, specificity0))\n",
        "print('label 2 : sensitivity - {:.4f} / specificity - {:.4f}'.format(sensitivity1, specificity1))\n",
        "print('label 3 : sensitivity - {:.4f} / specificity - {:.4f}'.format(sensitivity2, specificity2))"
      ]
    },
    {
      "cell_type": "code",
      "execution_count": 46,
      "id": "33fb175e",
      "metadata": {
        "colab": {
          "base_uri": "https://localhost:8080/"
        },
        "id": "33fb175e",
        "outputId": "195aacff-0489-4406-eba7-76e899262844"
      },
      "outputs": [
        {
          "output_type": "stream",
          "name": "stdout",
          "text": [
            "ROC_AUC_Score\n",
            ": 0.8379604860056044\n"
          ]
        }
      ],
      "source": [
        "print('ROC_AUC_Score\\n:',roc_auc_score(pea['olfactory'], predicted2, multi_class='ovr'))"
      ]
    },
    {
      "cell_type": "code",
      "execution_count": null,
      "id": "b7b71a00",
      "metadata": {
        "id": "b7b71a00"
      },
      "outputs": [],
      "source": []
    }
  ],
  "metadata": {
    "kernelspec": {
      "display_name": "Python 3 (ipykernel)",
      "language": "python",
      "name": "python3"
    },
    "language_info": {
      "codemirror_mode": {
        "name": "ipython",
        "version": 3
      },
      "file_extension": ".py",
      "mimetype": "text/x-python",
      "name": "python",
      "nbconvert_exporter": "python",
      "pygments_lexer": "ipython3",
      "version": "3.9.12"
    },
    "colab": {
      "provenance": [],
      "include_colab_link": true
    }
  },
  "nbformat": 4,
  "nbformat_minor": 5
}